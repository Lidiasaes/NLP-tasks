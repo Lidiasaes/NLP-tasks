{
  "nbformat": 4,
  "nbformat_minor": 0,
  "metadata": {
    "colab": {
      "provenance": [],
      "toc_visible": true
    },
    "kernelspec": {
      "name": "python3",
      "display_name": "Python 3"
    },
    "language_info": {
      "name": "python"
    },
    "widgets": {
      "application/vnd.jupyter.widget-state+json": {
        "a438b20b99f2421dabeb7fc665f15604": {
          "model_module": "@jupyter-widgets/controls",
          "model_name": "HBoxModel",
          "model_module_version": "1.5.0",
          "state": {
            "_dom_classes": [],
            "_model_module": "@jupyter-widgets/controls",
            "_model_module_version": "1.5.0",
            "_model_name": "HBoxModel",
            "_view_count": null,
            "_view_module": "@jupyter-widgets/controls",
            "_view_module_version": "1.5.0",
            "_view_name": "HBoxView",
            "box_style": "",
            "children": [
              "IPY_MODEL_2617a9720d7e4ba7b0e98fd716d5a9c3",
              "IPY_MODEL_ae1d092306ef437a8de26755527cb78b",
              "IPY_MODEL_b1b5391cf78144cfbd128ac60fe8a339"
            ],
            "layout": "IPY_MODEL_2abb9caebfa646c0aa6ad7c29044fd03"
          }
        },
        "2617a9720d7e4ba7b0e98fd716d5a9c3": {
          "model_module": "@jupyter-widgets/controls",
          "model_name": "HTMLModel",
          "model_module_version": "1.5.0",
          "state": {
            "_dom_classes": [],
            "_model_module": "@jupyter-widgets/controls",
            "_model_module_version": "1.5.0",
            "_model_name": "HTMLModel",
            "_view_count": null,
            "_view_module": "@jupyter-widgets/controls",
            "_view_module_version": "1.5.0",
            "_view_name": "HTMLView",
            "description": "",
            "description_tooltip": null,
            "layout": "IPY_MODEL_aff2bc0fe40643a6a6e0978eb04a2d89",
            "placeholder": "​",
            "style": "IPY_MODEL_b06c20befcd04225ac40522560a51a91",
            "value": "Downloading https://raw.githubusercontent.com/stanfordnlp/stanza-resources/main/resources_1.6.0.json: "
          }
        },
        "ae1d092306ef437a8de26755527cb78b": {
          "model_module": "@jupyter-widgets/controls",
          "model_name": "FloatProgressModel",
          "model_module_version": "1.5.0",
          "state": {
            "_dom_classes": [],
            "_model_module": "@jupyter-widgets/controls",
            "_model_module_version": "1.5.0",
            "_model_name": "FloatProgressModel",
            "_view_count": null,
            "_view_module": "@jupyter-widgets/controls",
            "_view_module_version": "1.5.0",
            "_view_name": "ProgressView",
            "bar_style": "success",
            "description": "",
            "description_tooltip": null,
            "layout": "IPY_MODEL_45990eb3fe9742a2b914cae3549162f1",
            "max": 45749,
            "min": 0,
            "orientation": "horizontal",
            "style": "IPY_MODEL_a732b42eee094e47991a52e933e8eae6",
            "value": 45749
          }
        },
        "b1b5391cf78144cfbd128ac60fe8a339": {
          "model_module": "@jupyter-widgets/controls",
          "model_name": "HTMLModel",
          "model_module_version": "1.5.0",
          "state": {
            "_dom_classes": [],
            "_model_module": "@jupyter-widgets/controls",
            "_model_module_version": "1.5.0",
            "_model_name": "HTMLModel",
            "_view_count": null,
            "_view_module": "@jupyter-widgets/controls",
            "_view_module_version": "1.5.0",
            "_view_name": "HTMLView",
            "description": "",
            "description_tooltip": null,
            "layout": "IPY_MODEL_bb2497aea6cb4942bb1ccb6c7d176b50",
            "placeholder": "​",
            "style": "IPY_MODEL_cb23e060943245699354de36b38e21e4",
            "value": " 367k/? [00:00&lt;00:00, 8.92MB/s]"
          }
        },
        "2abb9caebfa646c0aa6ad7c29044fd03": {
          "model_module": "@jupyter-widgets/base",
          "model_name": "LayoutModel",
          "model_module_version": "1.2.0",
          "state": {
            "_model_module": "@jupyter-widgets/base",
            "_model_module_version": "1.2.0",
            "_model_name": "LayoutModel",
            "_view_count": null,
            "_view_module": "@jupyter-widgets/base",
            "_view_module_version": "1.2.0",
            "_view_name": "LayoutView",
            "align_content": null,
            "align_items": null,
            "align_self": null,
            "border": null,
            "bottom": null,
            "display": null,
            "flex": null,
            "flex_flow": null,
            "grid_area": null,
            "grid_auto_columns": null,
            "grid_auto_flow": null,
            "grid_auto_rows": null,
            "grid_column": null,
            "grid_gap": null,
            "grid_row": null,
            "grid_template_areas": null,
            "grid_template_columns": null,
            "grid_template_rows": null,
            "height": null,
            "justify_content": null,
            "justify_items": null,
            "left": null,
            "margin": null,
            "max_height": null,
            "max_width": null,
            "min_height": null,
            "min_width": null,
            "object_fit": null,
            "object_position": null,
            "order": null,
            "overflow": null,
            "overflow_x": null,
            "overflow_y": null,
            "padding": null,
            "right": null,
            "top": null,
            "visibility": null,
            "width": null
          }
        },
        "aff2bc0fe40643a6a6e0978eb04a2d89": {
          "model_module": "@jupyter-widgets/base",
          "model_name": "LayoutModel",
          "model_module_version": "1.2.0",
          "state": {
            "_model_module": "@jupyter-widgets/base",
            "_model_module_version": "1.2.0",
            "_model_name": "LayoutModel",
            "_view_count": null,
            "_view_module": "@jupyter-widgets/base",
            "_view_module_version": "1.2.0",
            "_view_name": "LayoutView",
            "align_content": null,
            "align_items": null,
            "align_self": null,
            "border": null,
            "bottom": null,
            "display": null,
            "flex": null,
            "flex_flow": null,
            "grid_area": null,
            "grid_auto_columns": null,
            "grid_auto_flow": null,
            "grid_auto_rows": null,
            "grid_column": null,
            "grid_gap": null,
            "grid_row": null,
            "grid_template_areas": null,
            "grid_template_columns": null,
            "grid_template_rows": null,
            "height": null,
            "justify_content": null,
            "justify_items": null,
            "left": null,
            "margin": null,
            "max_height": null,
            "max_width": null,
            "min_height": null,
            "min_width": null,
            "object_fit": null,
            "object_position": null,
            "order": null,
            "overflow": null,
            "overflow_x": null,
            "overflow_y": null,
            "padding": null,
            "right": null,
            "top": null,
            "visibility": null,
            "width": null
          }
        },
        "b06c20befcd04225ac40522560a51a91": {
          "model_module": "@jupyter-widgets/controls",
          "model_name": "DescriptionStyleModel",
          "model_module_version": "1.5.0",
          "state": {
            "_model_module": "@jupyter-widgets/controls",
            "_model_module_version": "1.5.0",
            "_model_name": "DescriptionStyleModel",
            "_view_count": null,
            "_view_module": "@jupyter-widgets/base",
            "_view_module_version": "1.2.0",
            "_view_name": "StyleView",
            "description_width": ""
          }
        },
        "45990eb3fe9742a2b914cae3549162f1": {
          "model_module": "@jupyter-widgets/base",
          "model_name": "LayoutModel",
          "model_module_version": "1.2.0",
          "state": {
            "_model_module": "@jupyter-widgets/base",
            "_model_module_version": "1.2.0",
            "_model_name": "LayoutModel",
            "_view_count": null,
            "_view_module": "@jupyter-widgets/base",
            "_view_module_version": "1.2.0",
            "_view_name": "LayoutView",
            "align_content": null,
            "align_items": null,
            "align_self": null,
            "border": null,
            "bottom": null,
            "display": null,
            "flex": null,
            "flex_flow": null,
            "grid_area": null,
            "grid_auto_columns": null,
            "grid_auto_flow": null,
            "grid_auto_rows": null,
            "grid_column": null,
            "grid_gap": null,
            "grid_row": null,
            "grid_template_areas": null,
            "grid_template_columns": null,
            "grid_template_rows": null,
            "height": null,
            "justify_content": null,
            "justify_items": null,
            "left": null,
            "margin": null,
            "max_height": null,
            "max_width": null,
            "min_height": null,
            "min_width": null,
            "object_fit": null,
            "object_position": null,
            "order": null,
            "overflow": null,
            "overflow_x": null,
            "overflow_y": null,
            "padding": null,
            "right": null,
            "top": null,
            "visibility": null,
            "width": null
          }
        },
        "a732b42eee094e47991a52e933e8eae6": {
          "model_module": "@jupyter-widgets/controls",
          "model_name": "ProgressStyleModel",
          "model_module_version": "1.5.0",
          "state": {
            "_model_module": "@jupyter-widgets/controls",
            "_model_module_version": "1.5.0",
            "_model_name": "ProgressStyleModel",
            "_view_count": null,
            "_view_module": "@jupyter-widgets/base",
            "_view_module_version": "1.2.0",
            "_view_name": "StyleView",
            "bar_color": null,
            "description_width": ""
          }
        },
        "bb2497aea6cb4942bb1ccb6c7d176b50": {
          "model_module": "@jupyter-widgets/base",
          "model_name": "LayoutModel",
          "model_module_version": "1.2.0",
          "state": {
            "_model_module": "@jupyter-widgets/base",
            "_model_module_version": "1.2.0",
            "_model_name": "LayoutModel",
            "_view_count": null,
            "_view_module": "@jupyter-widgets/base",
            "_view_module_version": "1.2.0",
            "_view_name": "LayoutView",
            "align_content": null,
            "align_items": null,
            "align_self": null,
            "border": null,
            "bottom": null,
            "display": null,
            "flex": null,
            "flex_flow": null,
            "grid_area": null,
            "grid_auto_columns": null,
            "grid_auto_flow": null,
            "grid_auto_rows": null,
            "grid_column": null,
            "grid_gap": null,
            "grid_row": null,
            "grid_template_areas": null,
            "grid_template_columns": null,
            "grid_template_rows": null,
            "height": null,
            "justify_content": null,
            "justify_items": null,
            "left": null,
            "margin": null,
            "max_height": null,
            "max_width": null,
            "min_height": null,
            "min_width": null,
            "object_fit": null,
            "object_position": null,
            "order": null,
            "overflow": null,
            "overflow_x": null,
            "overflow_y": null,
            "padding": null,
            "right": null,
            "top": null,
            "visibility": null,
            "width": null
          }
        },
        "cb23e060943245699354de36b38e21e4": {
          "model_module": "@jupyter-widgets/controls",
          "model_name": "DescriptionStyleModel",
          "model_module_version": "1.5.0",
          "state": {
            "_model_module": "@jupyter-widgets/controls",
            "_model_module_version": "1.5.0",
            "_model_name": "DescriptionStyleModel",
            "_view_count": null,
            "_view_module": "@jupyter-widgets/base",
            "_view_module_version": "1.2.0",
            "_view_name": "StyleView",
            "description_width": ""
          }
        },
        "cc151727b2d446358de065920aee20d3": {
          "model_module": "@jupyter-widgets/controls",
          "model_name": "HBoxModel",
          "model_module_version": "1.5.0",
          "state": {
            "_dom_classes": [],
            "_model_module": "@jupyter-widgets/controls",
            "_model_module_version": "1.5.0",
            "_model_name": "HBoxModel",
            "_view_count": null,
            "_view_module": "@jupyter-widgets/controls",
            "_view_module_version": "1.5.0",
            "_view_name": "HBoxView",
            "box_style": "",
            "children": [
              "IPY_MODEL_e29d275f6e4a439ab9091e366e932465",
              "IPY_MODEL_a64651ae80284239b5432b9c657419e7",
              "IPY_MODEL_fc93f0b021d840eaae82a92b11cdeb34"
            ],
            "layout": "IPY_MODEL_b2eafc167a3f483681555459bd233e76"
          }
        },
        "e29d275f6e4a439ab9091e366e932465": {
          "model_module": "@jupyter-widgets/controls",
          "model_name": "HTMLModel",
          "model_module_version": "1.5.0",
          "state": {
            "_dom_classes": [],
            "_model_module": "@jupyter-widgets/controls",
            "_model_module_version": "1.5.0",
            "_model_name": "HTMLModel",
            "_view_count": null,
            "_view_module": "@jupyter-widgets/controls",
            "_view_module_version": "1.5.0",
            "_view_name": "HTMLView",
            "description": "",
            "description_tooltip": null,
            "layout": "IPY_MODEL_6c176a039fa7411db73e1643a52476b9",
            "placeholder": "​",
            "style": "IPY_MODEL_0a920ebdb2784972aefc46b57bfb7a16",
            "value": "Downloading https://huggingface.co/stanfordnlp/stanza-en/resolve/v1.6.0/models/default.zip: 100%"
          }
        },
        "a64651ae80284239b5432b9c657419e7": {
          "model_module": "@jupyter-widgets/controls",
          "model_name": "FloatProgressModel",
          "model_module_version": "1.5.0",
          "state": {
            "_dom_classes": [],
            "_model_module": "@jupyter-widgets/controls",
            "_model_module_version": "1.5.0",
            "_model_name": "FloatProgressModel",
            "_view_count": null,
            "_view_module": "@jupyter-widgets/controls",
            "_view_module_version": "1.5.0",
            "_view_name": "ProgressView",
            "bar_style": "success",
            "description": "",
            "description_tooltip": null,
            "layout": "IPY_MODEL_779671022a46489a9a979b4f8877b32d",
            "max": 594891014,
            "min": 0,
            "orientation": "horizontal",
            "style": "IPY_MODEL_d8ee4e4fd91c4c8cb710fd2bcdfff8cf",
            "value": 594891014
          }
        },
        "fc93f0b021d840eaae82a92b11cdeb34": {
          "model_module": "@jupyter-widgets/controls",
          "model_name": "HTMLModel",
          "model_module_version": "1.5.0",
          "state": {
            "_dom_classes": [],
            "_model_module": "@jupyter-widgets/controls",
            "_model_module_version": "1.5.0",
            "_model_name": "HTMLModel",
            "_view_count": null,
            "_view_module": "@jupyter-widgets/controls",
            "_view_module_version": "1.5.0",
            "_view_name": "HTMLView",
            "description": "",
            "description_tooltip": null,
            "layout": "IPY_MODEL_b39ea5287a9148b4a5fd7061098c57a3",
            "placeholder": "​",
            "style": "IPY_MODEL_b836330aa53942c6b926dd4553bad336",
            "value": " 595M/595M [00:29&lt;00:00, 20.8MB/s]"
          }
        },
        "b2eafc167a3f483681555459bd233e76": {
          "model_module": "@jupyter-widgets/base",
          "model_name": "LayoutModel",
          "model_module_version": "1.2.0",
          "state": {
            "_model_module": "@jupyter-widgets/base",
            "_model_module_version": "1.2.0",
            "_model_name": "LayoutModel",
            "_view_count": null,
            "_view_module": "@jupyter-widgets/base",
            "_view_module_version": "1.2.0",
            "_view_name": "LayoutView",
            "align_content": null,
            "align_items": null,
            "align_self": null,
            "border": null,
            "bottom": null,
            "display": null,
            "flex": null,
            "flex_flow": null,
            "grid_area": null,
            "grid_auto_columns": null,
            "grid_auto_flow": null,
            "grid_auto_rows": null,
            "grid_column": null,
            "grid_gap": null,
            "grid_row": null,
            "grid_template_areas": null,
            "grid_template_columns": null,
            "grid_template_rows": null,
            "height": null,
            "justify_content": null,
            "justify_items": null,
            "left": null,
            "margin": null,
            "max_height": null,
            "max_width": null,
            "min_height": null,
            "min_width": null,
            "object_fit": null,
            "object_position": null,
            "order": null,
            "overflow": null,
            "overflow_x": null,
            "overflow_y": null,
            "padding": null,
            "right": null,
            "top": null,
            "visibility": null,
            "width": null
          }
        },
        "6c176a039fa7411db73e1643a52476b9": {
          "model_module": "@jupyter-widgets/base",
          "model_name": "LayoutModel",
          "model_module_version": "1.2.0",
          "state": {
            "_model_module": "@jupyter-widgets/base",
            "_model_module_version": "1.2.0",
            "_model_name": "LayoutModel",
            "_view_count": null,
            "_view_module": "@jupyter-widgets/base",
            "_view_module_version": "1.2.0",
            "_view_name": "LayoutView",
            "align_content": null,
            "align_items": null,
            "align_self": null,
            "border": null,
            "bottom": null,
            "display": null,
            "flex": null,
            "flex_flow": null,
            "grid_area": null,
            "grid_auto_columns": null,
            "grid_auto_flow": null,
            "grid_auto_rows": null,
            "grid_column": null,
            "grid_gap": null,
            "grid_row": null,
            "grid_template_areas": null,
            "grid_template_columns": null,
            "grid_template_rows": null,
            "height": null,
            "justify_content": null,
            "justify_items": null,
            "left": null,
            "margin": null,
            "max_height": null,
            "max_width": null,
            "min_height": null,
            "min_width": null,
            "object_fit": null,
            "object_position": null,
            "order": null,
            "overflow": null,
            "overflow_x": null,
            "overflow_y": null,
            "padding": null,
            "right": null,
            "top": null,
            "visibility": null,
            "width": null
          }
        },
        "0a920ebdb2784972aefc46b57bfb7a16": {
          "model_module": "@jupyter-widgets/controls",
          "model_name": "DescriptionStyleModel",
          "model_module_version": "1.5.0",
          "state": {
            "_model_module": "@jupyter-widgets/controls",
            "_model_module_version": "1.5.0",
            "_model_name": "DescriptionStyleModel",
            "_view_count": null,
            "_view_module": "@jupyter-widgets/base",
            "_view_module_version": "1.2.0",
            "_view_name": "StyleView",
            "description_width": ""
          }
        },
        "779671022a46489a9a979b4f8877b32d": {
          "model_module": "@jupyter-widgets/base",
          "model_name": "LayoutModel",
          "model_module_version": "1.2.0",
          "state": {
            "_model_module": "@jupyter-widgets/base",
            "_model_module_version": "1.2.0",
            "_model_name": "LayoutModel",
            "_view_count": null,
            "_view_module": "@jupyter-widgets/base",
            "_view_module_version": "1.2.0",
            "_view_name": "LayoutView",
            "align_content": null,
            "align_items": null,
            "align_self": null,
            "border": null,
            "bottom": null,
            "display": null,
            "flex": null,
            "flex_flow": null,
            "grid_area": null,
            "grid_auto_columns": null,
            "grid_auto_flow": null,
            "grid_auto_rows": null,
            "grid_column": null,
            "grid_gap": null,
            "grid_row": null,
            "grid_template_areas": null,
            "grid_template_columns": null,
            "grid_template_rows": null,
            "height": null,
            "justify_content": null,
            "justify_items": null,
            "left": null,
            "margin": null,
            "max_height": null,
            "max_width": null,
            "min_height": null,
            "min_width": null,
            "object_fit": null,
            "object_position": null,
            "order": null,
            "overflow": null,
            "overflow_x": null,
            "overflow_y": null,
            "padding": null,
            "right": null,
            "top": null,
            "visibility": null,
            "width": null
          }
        },
        "d8ee4e4fd91c4c8cb710fd2bcdfff8cf": {
          "model_module": "@jupyter-widgets/controls",
          "model_name": "ProgressStyleModel",
          "model_module_version": "1.5.0",
          "state": {
            "_model_module": "@jupyter-widgets/controls",
            "_model_module_version": "1.5.0",
            "_model_name": "ProgressStyleModel",
            "_view_count": null,
            "_view_module": "@jupyter-widgets/base",
            "_view_module_version": "1.2.0",
            "_view_name": "StyleView",
            "bar_color": null,
            "description_width": ""
          }
        },
        "b39ea5287a9148b4a5fd7061098c57a3": {
          "model_module": "@jupyter-widgets/base",
          "model_name": "LayoutModel",
          "model_module_version": "1.2.0",
          "state": {
            "_model_module": "@jupyter-widgets/base",
            "_model_module_version": "1.2.0",
            "_model_name": "LayoutModel",
            "_view_count": null,
            "_view_module": "@jupyter-widgets/base",
            "_view_module_version": "1.2.0",
            "_view_name": "LayoutView",
            "align_content": null,
            "align_items": null,
            "align_self": null,
            "border": null,
            "bottom": null,
            "display": null,
            "flex": null,
            "flex_flow": null,
            "grid_area": null,
            "grid_auto_columns": null,
            "grid_auto_flow": null,
            "grid_auto_rows": null,
            "grid_column": null,
            "grid_gap": null,
            "grid_row": null,
            "grid_template_areas": null,
            "grid_template_columns": null,
            "grid_template_rows": null,
            "height": null,
            "justify_content": null,
            "justify_items": null,
            "left": null,
            "margin": null,
            "max_height": null,
            "max_width": null,
            "min_height": null,
            "min_width": null,
            "object_fit": null,
            "object_position": null,
            "order": null,
            "overflow": null,
            "overflow_x": null,
            "overflow_y": null,
            "padding": null,
            "right": null,
            "top": null,
            "visibility": null,
            "width": null
          }
        },
        "b836330aa53942c6b926dd4553bad336": {
          "model_module": "@jupyter-widgets/controls",
          "model_name": "DescriptionStyleModel",
          "model_module_version": "1.5.0",
          "state": {
            "_model_module": "@jupyter-widgets/controls",
            "_model_module_version": "1.5.0",
            "_model_name": "DescriptionStyleModel",
            "_view_count": null,
            "_view_module": "@jupyter-widgets/base",
            "_view_module_version": "1.2.0",
            "_view_name": "StyleView",
            "description_width": ""
          }
        },
        "4cb36ce2b9714e25b7c888d2e1b1b3e0": {
          "model_module": "@jupyter-widgets/controls",
          "model_name": "HBoxModel",
          "model_module_version": "1.5.0",
          "state": {
            "_dom_classes": [],
            "_model_module": "@jupyter-widgets/controls",
            "_model_module_version": "1.5.0",
            "_model_name": "HBoxModel",
            "_view_count": null,
            "_view_module": "@jupyter-widgets/controls",
            "_view_module_version": "1.5.0",
            "_view_name": "HBoxView",
            "box_style": "",
            "children": [
              "IPY_MODEL_fa553ec9be6641b3b3fd11bd86ea7d5c",
              "IPY_MODEL_dad8ba32c28b4296bb468b15114967a6",
              "IPY_MODEL_7e40c9fdcb1a4298a5671c9fd3243bb9"
            ],
            "layout": "IPY_MODEL_b803ea5f50ab411b99ce6dd60a856c51"
          }
        },
        "fa553ec9be6641b3b3fd11bd86ea7d5c": {
          "model_module": "@jupyter-widgets/controls",
          "model_name": "HTMLModel",
          "model_module_version": "1.5.0",
          "state": {
            "_dom_classes": [],
            "_model_module": "@jupyter-widgets/controls",
            "_model_module_version": "1.5.0",
            "_model_name": "HTMLModel",
            "_view_count": null,
            "_view_module": "@jupyter-widgets/controls",
            "_view_module_version": "1.5.0",
            "_view_name": "HTMLView",
            "description": "",
            "description_tooltip": null,
            "layout": "IPY_MODEL_bd67769e3eff43aab9ba4bee3d96f88a",
            "placeholder": "​",
            "style": "IPY_MODEL_f3dc021ab09f4311b430e07d5540a905",
            "value": "Downloading https://raw.githubusercontent.com/stanfordnlp/stanza-resources/main/resources_1.6.0.json: "
          }
        },
        "dad8ba32c28b4296bb468b15114967a6": {
          "model_module": "@jupyter-widgets/controls",
          "model_name": "FloatProgressModel",
          "model_module_version": "1.5.0",
          "state": {
            "_dom_classes": [],
            "_model_module": "@jupyter-widgets/controls",
            "_model_module_version": "1.5.0",
            "_model_name": "FloatProgressModel",
            "_view_count": null,
            "_view_module": "@jupyter-widgets/controls",
            "_view_module_version": "1.5.0",
            "_view_name": "ProgressView",
            "bar_style": "success",
            "description": "",
            "description_tooltip": null,
            "layout": "IPY_MODEL_9a61eb755a174c71be4497535f18245d",
            "max": 45749,
            "min": 0,
            "orientation": "horizontal",
            "style": "IPY_MODEL_b8857f7bb5514d40a1933fad6b82d21e",
            "value": 45749
          }
        },
        "7e40c9fdcb1a4298a5671c9fd3243bb9": {
          "model_module": "@jupyter-widgets/controls",
          "model_name": "HTMLModel",
          "model_module_version": "1.5.0",
          "state": {
            "_dom_classes": [],
            "_model_module": "@jupyter-widgets/controls",
            "_model_module_version": "1.5.0",
            "_model_name": "HTMLModel",
            "_view_count": null,
            "_view_module": "@jupyter-widgets/controls",
            "_view_module_version": "1.5.0",
            "_view_name": "HTMLView",
            "description": "",
            "description_tooltip": null,
            "layout": "IPY_MODEL_7ff2148cc300424681e982d6a7d7ed6d",
            "placeholder": "​",
            "style": "IPY_MODEL_fc46941612df4f7888362728ca9b0a98",
            "value": " 367k/? [00:00&lt;00:00, 7.84MB/s]"
          }
        },
        "b803ea5f50ab411b99ce6dd60a856c51": {
          "model_module": "@jupyter-widgets/base",
          "model_name": "LayoutModel",
          "model_module_version": "1.2.0",
          "state": {
            "_model_module": "@jupyter-widgets/base",
            "_model_module_version": "1.2.0",
            "_model_name": "LayoutModel",
            "_view_count": null,
            "_view_module": "@jupyter-widgets/base",
            "_view_module_version": "1.2.0",
            "_view_name": "LayoutView",
            "align_content": null,
            "align_items": null,
            "align_self": null,
            "border": null,
            "bottom": null,
            "display": null,
            "flex": null,
            "flex_flow": null,
            "grid_area": null,
            "grid_auto_columns": null,
            "grid_auto_flow": null,
            "grid_auto_rows": null,
            "grid_column": null,
            "grid_gap": null,
            "grid_row": null,
            "grid_template_areas": null,
            "grid_template_columns": null,
            "grid_template_rows": null,
            "height": null,
            "justify_content": null,
            "justify_items": null,
            "left": null,
            "margin": null,
            "max_height": null,
            "max_width": null,
            "min_height": null,
            "min_width": null,
            "object_fit": null,
            "object_position": null,
            "order": null,
            "overflow": null,
            "overflow_x": null,
            "overflow_y": null,
            "padding": null,
            "right": null,
            "top": null,
            "visibility": null,
            "width": null
          }
        },
        "bd67769e3eff43aab9ba4bee3d96f88a": {
          "model_module": "@jupyter-widgets/base",
          "model_name": "LayoutModel",
          "model_module_version": "1.2.0",
          "state": {
            "_model_module": "@jupyter-widgets/base",
            "_model_module_version": "1.2.0",
            "_model_name": "LayoutModel",
            "_view_count": null,
            "_view_module": "@jupyter-widgets/base",
            "_view_module_version": "1.2.0",
            "_view_name": "LayoutView",
            "align_content": null,
            "align_items": null,
            "align_self": null,
            "border": null,
            "bottom": null,
            "display": null,
            "flex": null,
            "flex_flow": null,
            "grid_area": null,
            "grid_auto_columns": null,
            "grid_auto_flow": null,
            "grid_auto_rows": null,
            "grid_column": null,
            "grid_gap": null,
            "grid_row": null,
            "grid_template_areas": null,
            "grid_template_columns": null,
            "grid_template_rows": null,
            "height": null,
            "justify_content": null,
            "justify_items": null,
            "left": null,
            "margin": null,
            "max_height": null,
            "max_width": null,
            "min_height": null,
            "min_width": null,
            "object_fit": null,
            "object_position": null,
            "order": null,
            "overflow": null,
            "overflow_x": null,
            "overflow_y": null,
            "padding": null,
            "right": null,
            "top": null,
            "visibility": null,
            "width": null
          }
        },
        "f3dc021ab09f4311b430e07d5540a905": {
          "model_module": "@jupyter-widgets/controls",
          "model_name": "DescriptionStyleModel",
          "model_module_version": "1.5.0",
          "state": {
            "_model_module": "@jupyter-widgets/controls",
            "_model_module_version": "1.5.0",
            "_model_name": "DescriptionStyleModel",
            "_view_count": null,
            "_view_module": "@jupyter-widgets/base",
            "_view_module_version": "1.2.0",
            "_view_name": "StyleView",
            "description_width": ""
          }
        },
        "9a61eb755a174c71be4497535f18245d": {
          "model_module": "@jupyter-widgets/base",
          "model_name": "LayoutModel",
          "model_module_version": "1.2.0",
          "state": {
            "_model_module": "@jupyter-widgets/base",
            "_model_module_version": "1.2.0",
            "_model_name": "LayoutModel",
            "_view_count": null,
            "_view_module": "@jupyter-widgets/base",
            "_view_module_version": "1.2.0",
            "_view_name": "LayoutView",
            "align_content": null,
            "align_items": null,
            "align_self": null,
            "border": null,
            "bottom": null,
            "display": null,
            "flex": null,
            "flex_flow": null,
            "grid_area": null,
            "grid_auto_columns": null,
            "grid_auto_flow": null,
            "grid_auto_rows": null,
            "grid_column": null,
            "grid_gap": null,
            "grid_row": null,
            "grid_template_areas": null,
            "grid_template_columns": null,
            "grid_template_rows": null,
            "height": null,
            "justify_content": null,
            "justify_items": null,
            "left": null,
            "margin": null,
            "max_height": null,
            "max_width": null,
            "min_height": null,
            "min_width": null,
            "object_fit": null,
            "object_position": null,
            "order": null,
            "overflow": null,
            "overflow_x": null,
            "overflow_y": null,
            "padding": null,
            "right": null,
            "top": null,
            "visibility": null,
            "width": null
          }
        },
        "b8857f7bb5514d40a1933fad6b82d21e": {
          "model_module": "@jupyter-widgets/controls",
          "model_name": "ProgressStyleModel",
          "model_module_version": "1.5.0",
          "state": {
            "_model_module": "@jupyter-widgets/controls",
            "_model_module_version": "1.5.0",
            "_model_name": "ProgressStyleModel",
            "_view_count": null,
            "_view_module": "@jupyter-widgets/base",
            "_view_module_version": "1.2.0",
            "_view_name": "StyleView",
            "bar_color": null,
            "description_width": ""
          }
        },
        "7ff2148cc300424681e982d6a7d7ed6d": {
          "model_module": "@jupyter-widgets/base",
          "model_name": "LayoutModel",
          "model_module_version": "1.2.0",
          "state": {
            "_model_module": "@jupyter-widgets/base",
            "_model_module_version": "1.2.0",
            "_model_name": "LayoutModel",
            "_view_count": null,
            "_view_module": "@jupyter-widgets/base",
            "_view_module_version": "1.2.0",
            "_view_name": "LayoutView",
            "align_content": null,
            "align_items": null,
            "align_self": null,
            "border": null,
            "bottom": null,
            "display": null,
            "flex": null,
            "flex_flow": null,
            "grid_area": null,
            "grid_auto_columns": null,
            "grid_auto_flow": null,
            "grid_auto_rows": null,
            "grid_column": null,
            "grid_gap": null,
            "grid_row": null,
            "grid_template_areas": null,
            "grid_template_columns": null,
            "grid_template_rows": null,
            "height": null,
            "justify_content": null,
            "justify_items": null,
            "left": null,
            "margin": null,
            "max_height": null,
            "max_width": null,
            "min_height": null,
            "min_width": null,
            "object_fit": null,
            "object_position": null,
            "order": null,
            "overflow": null,
            "overflow_x": null,
            "overflow_y": null,
            "padding": null,
            "right": null,
            "top": null,
            "visibility": null,
            "width": null
          }
        },
        "fc46941612df4f7888362728ca9b0a98": {
          "model_module": "@jupyter-widgets/controls",
          "model_name": "DescriptionStyleModel",
          "model_module_version": "1.5.0",
          "state": {
            "_model_module": "@jupyter-widgets/controls",
            "_model_module_version": "1.5.0",
            "_model_name": "DescriptionStyleModel",
            "_view_count": null,
            "_view_module": "@jupyter-widgets/base",
            "_view_module_version": "1.2.0",
            "_view_name": "StyleView",
            "description_width": ""
          }
        }
      }
    }
  },
  "cells": [
    {
      "cell_type": "code",
      "source": [
        "from google.colab import drive\n",
        "drive.mount('/content/drive')\n",
        "\n",
        "\n",
        "\"\"\"\n",
        "get most frequent words in a given text\n",
        "remove stopwords\n",
        "postagging noun and propn\n",
        "\n",
        "Comparing and visualizing both Stanza and Spacy\n",
        " \"\"\""
      ],
      "metadata": {
        "colab": {
          "base_uri": "https://localhost:8080/"
        },
        "id": "VTwocUhVtsrt",
        "outputId": "ddd323be-5c74-4da7-d9bb-0c3a34cd3950"
      },
      "execution_count": null,
      "outputs": [
        {
          "output_type": "stream",
          "name": "stdout",
          "text": [
            "Mounted at /content/drive\n"
          ]
        }
      ]
    },
    {
      "cell_type": "markdown",
      "source": [
        "#  Spacy"
      ],
      "metadata": {
        "id": "dlseYw04uNGr"
      }
    },
    {
      "cell_type": "code",
      "source": [
        "import spacy\n",
        "from collections import Counter\n",
        "\n",
        "# Load English tokenizer, POS tagger, etc.\n",
        "nlp = spacy.load(\"en_core_web_sm\")\n"
      ],
      "metadata": {
        "id": "cDLSCYf0ux_m"
      },
      "execution_count": null,
      "outputs": []
    },
    {
      "cell_type": "code",
      "source": [
        "# Process some text\n",
        "text = \"\"\"\n",
        "1801. - I have just returned from a visit to my landlord - the solitary neighbour that I shall be troubled with.\n",
        "This is certainly a beautiful country! In all England, I do not believe that I could have fixed on a situation so\n",
        "completely removed from the stir of society. A perfect misanthropist's heaven: and Mr. Heathcliff and I are\n",
        "such a suitable pair to divide the desolation between us. A capital fellow! He little imagined how my heart\n",
        "warmed towards him when I beheld his black eyes withdraw so suspiciously under their brows, as I rode up,\n",
        "and when his fingers sheltered themselves, with a jealous resolution, still further in his waistcoat, as I\n",
        "announced my name.\n",
        "'Mr. Heathcliff?' I said.\n",
        "A nod was the answer.\n",
        "'Mr. Lockwood, your new tenant, sir. I do myself the honour of calling as soon as possible after my arrival, to\n",
        "express the hope that I have not inconvenienced you by my perseverance in soliciting the occupation of\n",
        "Thrushcross Grange: I heard yesterday you had had some thoughts - '\n",
        "'Thrushcross Grange is my own, sir,' he interrupted, wincing. 'I should not allow any one to inconvenience me,\n",
        "if I could hinder it - walk in!'\n",
        "The 'walk in' was uttered with closed teeth, and expressed the sentiment, 'Go to the Deuce:' even the gate over\n",
        "which he leant manifested no sympathising movement to the words; and I think that circumstance determined\n",
        "me to accept the invitation: I felt interested in a man who seemed more exaggeratedly reserved than myself.\n",
        "When he saw my horse's breast fairly pushing the barrier, he did put out his hand to unchain it, and then\n",
        "sullenly preceded me up the causeway, calling, as we entered the court, - 'Joseph, take Mr. Lockwood's horse;\n",
        "and bring up some wine.'\n",
        "'Here we have the whole establishment of domestics, I suppose,' was the reflection suggested by this\n",
        "compound order. 'No wonder the grass grows up between the flags, and cattle are the only hedge- cutters.'\n",
        "Joseph was an elderly, nay, an old man: very old, perhaps, though hale and sinewy. 'The Lord help us!' he\n",
        "soliloquised in an undertone of peevish displeasure, while relieving me of my horse: looking, meantime, in\n",
        "my face so sourly that I charitably conjectured he must have need of divine aid to digest his dinner, and his\n",
        "pious ejaculation had no reference to my unexpected advent.\n",
        "Wuthering Heights is the name of Mr. Heathcliff's dwelling. 'Wuthering' being a significant provincial\n",
        "adjective, descriptive of the atmospheric tumult to which its station is exposed in stormy weather. Pure,\n",
        "bracing ventilation they must have up there at all times, indeed: one may guess the power of the north wind\n",
        "blowing over the edge, by the excessive slant of a few stunted firs at the end of the house; and by a range of\n",
        "gaunt thorns all stretching their limbs one way, as if craving alms of the sun. Happily, the architect had\n",
        "foresight to build it strong: the narrow windows are deeply set in the wall, and the corners defended with large\n",
        "jutting stones.\n",
        "Before passing the threshold, I paused to admire a quantity of grotesque carving lavished over the front, and\n",
        "especially about the principal door; above which, among a wilderness of crumbling griffins and shameless\n",
        "little boys, I detected the date '1500,' and the name 'Hareton Earnshaw.' I would have made a few comments,\n",
        "and requested a short history of the place from the surly owner; but his attitude at the door appeared to\n",
        "demand my speedy entrance, or complete departure, and I had no desire to aggravate his impatience previous\n",
        "to inspecting the penetralium.\n",
        "CHAPTER I 6\n",
        "One stop brought us into the family sitting-room, without any introductory lobby or passage: they call it here\n",
        "'the house' pre- eminently. It includes kitchen and parlour, generally; but I believe at Wuthering Heights the\n",
        "kitchen is forced to retreat altogether into another quarter: at least I distinguished a chatter of tongues, and a\n",
        "clatter of culinary utensils, deep within; and I observed no signs of roasting, boiling, or baking, about the huge\n",
        "fireplace; nor any glitter of copper saucepans and tin cullenders on the walls. One end, indeed, reflected\n",
        "splendidly both light and heat from ranks of immense pewter dishes, interspersed with silver jugs and\n",
        "tankards, towering row after row, on a vast oak dresser, to the very roof. The latter had never been\n",
        "under-drawn: its entire anatomy lay bare to an inquiring eye, except where a frame of wood laden with\n",
        "oatcakes and clusters of legs of beef, mutton, and ham, concealed it. Above the chimney were sundry\n",
        "villainous old guns, and a couple of horse-pistols: and, by way of ornament, three gaudily-painted canisters\n",
        "disposed along its ledge. The floor was of smooth, white stone; the chairs, high-backed, primitive structures,\n",
        "painted green: one or two heavy black ones lurking in the shade. In an arch under the dresser reposed a huge,\n",
        "liver-coloured bitch pointer, surrounded by a swarm of squealing puppies; and other dogs haunted other\n",
        "recesses.\n",
        "The apartment and furniture would have been nothing extraordinary as belonging to a homely, northern\n",
        "farmer, with a stubborn countenance, and stalwart limbs set out to advantage in knee- breeches and gaiters.\n",
        "Such an individual seated in his arm-chair, his mug of ale frothing on the round table before him, is to be seen\n",
        "in any circuit of five or six miles among these hills, if you go at the right time after dinner. But Mr. Heathcliff\n",
        "forms a singular contrast to his abode and style of living. He is a dark- skinned gipsy in aspect, in dress and\n",
        "manners a gentleman: that is, as much a gentleman as many a country squire: rather slovenly, perhaps, yet not\n",
        "looking amiss with his negligence, because he has an erect and handsome figure; and rather morose. Possibly,\n",
        "some people might suspect him of a degree of under-bred pride; I have a sympathetic chord within that tells\n",
        "me it is nothing of the sort: I know, by instinct, his reserve springs from an aversion to showy displays of\n",
        "feeling - to manifestations of mutual kindliness. He'll love and hate equally under cover, and esteem it a\n",
        "species of impertinence to be loved or hated again. No, I'm running on too fast: I bestow my own attributes\n",
        "over-liberally on him. Mr. Heathcliff may have entirely dissimilar reasons for keeping his hand out of the way\n",
        "when he meets a would-be acquaintance, to those which actuate me. Let me hope my constitution is almost\n",
        "peculiar: my dear mother used to say I should never have a comfortable home; and only last summer I proved\n",
        "myself perfectly unworthy of one.\n",
        "While enjoying a month of fine weather at the sea-coast, I was thrown into the company of a most fascinating\n",
        "creature: a real goddess in my eyes, as long as she took no notice of me. I 'never told my love' vocally; still, if\n",
        "looks have language, the merest idiot might have guessed I was over head and ears: she understood me at last,\n",
        "and looked a return - the sweetest of all imaginable looks. And what did I do? I confess it with shame - shrunk\n",
        "icily into myself, like a snail; at every glance retired colder and farther; till finally the poor innocent was led to\n",
        "doubt her own senses, and, overwhelmed with confusion at her supposed mistake, persuaded her mamma to\n",
        "decamp. By this curious turn of disposition I have gained the reputation of deliberate heartlessness; how\n",
        "undeserved, I alone can appreciate.\n",
        "I took a seat at the end of the hearthstone opposite that towards which my landlord advanced, and filled up an\n",
        "interval of silence by attempting to caress the canine mother, who had left her nursery, and was sneaking\n",
        "wolfishly to the back of my legs, her lip curled up, and her white teeth watering for a snatch. My caress\n",
        "provoked a long, guttural gnarl.\n",
        "'You'd better let the dog alone,' growled Mr. Heathcliff in unison, checking fiercer demonstrations with a\n",
        "punch of his foot. 'She's not accustomed to be spoiled - not kept for a pet.' Then, striding to a side door, he\n",
        "shouted again, 'Joseph!'\n",
        "Joseph mumbled indistinctly in the depths of the cellar, but gave no intimation of ascending; so his master\n",
        "dived down to him, leaving me VIS-A-VIS the ruffianly bitch and a pair of grim shaggy sheep-dogs, who\n",
        "shared with her a jealous guardianship over all my movements. Not anxious to come in contact with their\n",
        "CHAPTER I 7\n",
        "fangs, I sat still; but, imagining they would scarcely understand tacit insults, I unfortunately indulged in\n",
        "winking and making faces at the trio, and some turn of my physiognomy so irritated madam, that she\n",
        "suddenly broke into a fury and leapt on my knees. I flung her back, and hastened to interpose the table\n",
        "between us. This proceeding aroused the whole hive: half-a-dozen four-footed fiends, of various sizes and\n",
        "ages, issued from hidden dens to the common centre. I felt my heels and coat-laps peculiar subjects of assault;\n",
        "and parrying off the larger combatants as effectually as I could with the poker, I was constrained to demand,\n",
        "aloud, assistance from some of the household in re-establishing peace.\n",
        "Mr. Heathcliff and his man climbed the cellar steps with vexatious phlegm: I don't think they moved one\n",
        "second faster than usual, though the hearth was an absolute tempest of worrying and yelping. Happily, an\n",
        "inhabitant of the kitchen made more despatch: a lusty dame, with tucked-up gown, bare arms, and fire-flushed\n",
        "cheeks, rushed into the midst of us flourishing a frying-pan: and used that weapon, and her tongue, to such\n",
        "purpose, that the storm subsided magically, and she only remained, heaving like a sea after a high wind, when\n",
        "her master entered on the scene.\n",
        "'What the devil is the matter?' he asked, eyeing me in a manner that I could ill endure, after this inhospitable\n",
        "treatment.\n",
        "'What the devil, indeed!' I muttered. 'The herd of possessed swine could have had no worse spirits in them\n",
        "than those animals of yours, sir. You might as well leave a stranger with a brood of tigers!'\n",
        "'They won't meddle with persons who touch nothing,' he remarked, putting the bottle before me, and restoring\n",
        "the displaced table. 'The dogs do right to be vigilant. Take a glass of wine?'\n",
        "'No, thank you.'\n",
        "'Not bitten, are you?'\n",
        "'If I had been, I would have set my signet on the biter.' Heathcliff's countenance relaxed into a grin.\n",
        "'Come, come,' he said, 'you are flurried, Mr. Lockwood. Here, take a little wine. Guests are so exceedingly\n",
        "rare in this house that I and my dogs, I am willing to own, hardly know how to receive them. Your health, sir?'\n",
        "I bowed and returned the pledge; beginning to perceive that it would be foolish to sit sulking for the\n",
        "misbehaviour of a pack of curs; besides, I felt loth to yield the fellow further amusement at my expense; since\n",
        "his humour took that turn. He - probably swayed by prudential consideration of the folly of offending a good\n",
        "tenant - relaxed a little in the laconic style of chipping off his pronouns and auxiliary verbs, and introduced\n",
        "what he supposed would be a subject of interest to me, - a discourse on the advantages and disadvantages of\n",
        "my present place of retirement. I found him very intelligent on the topics we touched; and before I went home,\n",
        "I was encouraged so far as to volunteer another visit to-morrow. He evidently wished no repetition of my\n",
        "intrusion. I shall go, notwithstanding. It is astonishing how sociable I feel myself compared with him.\n",
        "\n",
        "\"\"\""
      ],
      "metadata": {
        "id": "F9nKstzBuyOm"
      },
      "execution_count": null,
      "outputs": []
    },
    {
      "cell_type": "code",
      "source": [
        "# Process the text using spaCy\n",
        "doc = nlp(text)\n",
        "\n",
        "# Create Counter to hold tokens\n",
        "word_freq = Counter()\n",
        "\n",
        "# Set of English stopwords (You can use spaCy's built-in stopwords)\n",
        "stopwords = set(spacy.lang.en.stop_words.STOP_WORDS)\n",
        "\n",
        "# Count the frequency of each non-stop word in the text, only consider NOUN and PROPN\n",
        "for sentence in doc.sents:\n",
        "    for token in sentence:\n",
        "        if token.lemma_.lower() not in stopwords and token.pos_ in [\"NOUN\", \"PROPN\"]:\n",
        "            word_freq[token.lemma_.lower()] += 1\n",
        "\n",
        "# Let's consider words with frequency > 1:\n",
        "contextual_wordlist = [word for word, freq in word_freq.items() if freq > 1]\n",
        "\n",
        "# Number of relevant words you want to take\n",
        "num_important_words = len(contextual_wordlist)\n",
        "\n",
        "# Save it\n",
        "try:\n",
        "    with open('/content/drive/My Drive/PERSO_PROJECTS/wordlist-spacy-basic.txt', 'w') as f:\n",
        "        for word in contextual_wordlist:\n",
        "            f.write(f\"{word}\\n\")\n",
        "except Exception as e:\n",
        "    print(f\"An error occurred: {str(e)}\")\n",
        "\n",
        "print(f\"Number of 'important' words: {num_important_words}\")\n",
        "\n"
      ],
      "metadata": {
        "colab": {
          "base_uri": "https://localhost:8080/"
        },
        "id": "WC3j_6IouYwd",
        "outputId": "cdee2d8a-dcf9-40b9-e768-90c257630146"
      },
      "execution_count": null,
      "outputs": [
        {
          "output_type": "stream",
          "name": "stdout",
          "text": [
            "Number of 'important' words: 54\n"
          ]
        }
      ]
    },
    {
      "cell_type": "markdown",
      "source": [
        "# Stanza"
      ],
      "metadata": {
        "id": "ZLlFP5_svPxj"
      }
    },
    {
      "cell_type": "code",
      "source": [
        "!pip install stanza"
      ],
      "metadata": {
        "colab": {
          "base_uri": "https://localhost:8080/"
        },
        "id": "Fqt8hnmfvfNk",
        "outputId": "d1f7d62d-475a-471f-a37f-d5b850610ace"
      },
      "execution_count": null,
      "outputs": [
        {
          "output_type": "stream",
          "name": "stdout",
          "text": [
            "Collecting stanza\n",
            "  Downloading stanza-1.6.1-py3-none-any.whl (881 kB)\n",
            "\u001b[2K     \u001b[90m━━━━━━━━━━━━━━━━━━━━━━━━━━━━━━━━━━━━━━\u001b[0m \u001b[32m881.2/881.2 kB\u001b[0m \u001b[31m10.1 MB/s\u001b[0m eta \u001b[36m0:00:00\u001b[0m\n",
            "\u001b[?25hCollecting emoji (from stanza)\n",
            "  Downloading emoji-2.8.0-py2.py3-none-any.whl (358 kB)\n",
            "\u001b[2K     \u001b[90m━━━━━━━━━━━━━━━━━━━━━━━━━━━━━━━━━━━━━━\u001b[0m \u001b[32m358.9/358.9 kB\u001b[0m \u001b[31m30.8 MB/s\u001b[0m eta \u001b[36m0:00:00\u001b[0m\n",
            "\u001b[?25hRequirement already satisfied: numpy in /usr/local/lib/python3.10/dist-packages (from stanza) (1.23.5)\n",
            "Requirement already satisfied: protobuf>=3.15.0 in /usr/local/lib/python3.10/dist-packages (from stanza) (3.20.3)\n",
            "Requirement already satisfied: requests in /usr/local/lib/python3.10/dist-packages (from stanza) (2.31.0)\n",
            "Requirement already satisfied: torch>=1.3.0 in /usr/local/lib/python3.10/dist-packages (from stanza) (2.0.1+cu118)\n",
            "Requirement already satisfied: tqdm in /usr/local/lib/python3.10/dist-packages (from stanza) (4.66.1)\n",
            "Requirement already satisfied: filelock in /usr/local/lib/python3.10/dist-packages (from torch>=1.3.0->stanza) (3.12.4)\n",
            "Requirement already satisfied: typing-extensions in /usr/local/lib/python3.10/dist-packages (from torch>=1.3.0->stanza) (4.5.0)\n",
            "Requirement already satisfied: sympy in /usr/local/lib/python3.10/dist-packages (from torch>=1.3.0->stanza) (1.12)\n",
            "Requirement already satisfied: networkx in /usr/local/lib/python3.10/dist-packages (from torch>=1.3.0->stanza) (3.1)\n",
            "Requirement already satisfied: jinja2 in /usr/local/lib/python3.10/dist-packages (from torch>=1.3.0->stanza) (3.1.2)\n",
            "Requirement already satisfied: triton==2.0.0 in /usr/local/lib/python3.10/dist-packages (from torch>=1.3.0->stanza) (2.0.0)\n",
            "Requirement already satisfied: cmake in /usr/local/lib/python3.10/dist-packages (from triton==2.0.0->torch>=1.3.0->stanza) (3.27.6)\n",
            "Requirement already satisfied: lit in /usr/local/lib/python3.10/dist-packages (from triton==2.0.0->torch>=1.3.0->stanza) (17.0.2)\n",
            "Requirement already satisfied: charset-normalizer<4,>=2 in /usr/local/lib/python3.10/dist-packages (from requests->stanza) (3.3.0)\n",
            "Requirement already satisfied: idna<4,>=2.5 in /usr/local/lib/python3.10/dist-packages (from requests->stanza) (3.4)\n",
            "Requirement already satisfied: urllib3<3,>=1.21.1 in /usr/local/lib/python3.10/dist-packages (from requests->stanza) (2.0.6)\n",
            "Requirement already satisfied: certifi>=2017.4.17 in /usr/local/lib/python3.10/dist-packages (from requests->stanza) (2023.7.22)\n",
            "Requirement already satisfied: MarkupSafe>=2.0 in /usr/local/lib/python3.10/dist-packages (from jinja2->torch>=1.3.0->stanza) (2.1.3)\n",
            "Requirement already satisfied: mpmath>=0.19 in /usr/local/lib/python3.10/dist-packages (from sympy->torch>=1.3.0->stanza) (1.3.0)\n",
            "Installing collected packages: emoji, stanza\n",
            "Successfully installed emoji-2.8.0 stanza-1.6.1\n"
          ]
        }
      ]
    },
    {
      "cell_type": "code",
      "source": [
        "import stanza\n",
        "from collections import Counter\n",
        "\n",
        "# initialize nl for English\n",
        "stanza.download(\"en\")\n",
        "nlp = stanza.Pipeline(lang=\"en\", processors=\"tokenize,pos,lemma\")\n"
      ],
      "metadata": {
        "colab": {
          "base_uri": "https://localhost:8080/",
          "height": 512,
          "referenced_widgets": [
            "a438b20b99f2421dabeb7fc665f15604",
            "2617a9720d7e4ba7b0e98fd716d5a9c3",
            "ae1d092306ef437a8de26755527cb78b",
            "b1b5391cf78144cfbd128ac60fe8a339",
            "2abb9caebfa646c0aa6ad7c29044fd03",
            "aff2bc0fe40643a6a6e0978eb04a2d89",
            "b06c20befcd04225ac40522560a51a91",
            "45990eb3fe9742a2b914cae3549162f1",
            "a732b42eee094e47991a52e933e8eae6",
            "bb2497aea6cb4942bb1ccb6c7d176b50",
            "cb23e060943245699354de36b38e21e4",
            "cc151727b2d446358de065920aee20d3",
            "e29d275f6e4a439ab9091e366e932465",
            "a64651ae80284239b5432b9c657419e7",
            "fc93f0b021d840eaae82a92b11cdeb34",
            "b2eafc167a3f483681555459bd233e76",
            "6c176a039fa7411db73e1643a52476b9",
            "0a920ebdb2784972aefc46b57bfb7a16",
            "779671022a46489a9a979b4f8877b32d",
            "d8ee4e4fd91c4c8cb710fd2bcdfff8cf",
            "b39ea5287a9148b4a5fd7061098c57a3",
            "b836330aa53942c6b926dd4553bad336",
            "4cb36ce2b9714e25b7c888d2e1b1b3e0",
            "fa553ec9be6641b3b3fd11bd86ea7d5c",
            "dad8ba32c28b4296bb468b15114967a6",
            "7e40c9fdcb1a4298a5671c9fd3243bb9",
            "b803ea5f50ab411b99ce6dd60a856c51",
            "bd67769e3eff43aab9ba4bee3d96f88a",
            "f3dc021ab09f4311b430e07d5540a905",
            "9a61eb755a174c71be4497535f18245d",
            "b8857f7bb5514d40a1933fad6b82d21e",
            "7ff2148cc300424681e982d6a7d7ed6d",
            "fc46941612df4f7888362728ca9b0a98"
          ]
        },
        "id": "2vkELlG6vvDV",
        "outputId": "ee828c37-8c02-45cd-9b5f-a6f81cc94e00"
      },
      "execution_count": null,
      "outputs": [
        {
          "output_type": "display_data",
          "data": {
            "text/plain": [
              "Downloading https://raw.githubusercontent.com/stanfordnlp/stanza-resources/main/resources_1.6.0.json:   0%|   …"
            ],
            "application/vnd.jupyter.widget-view+json": {
              "version_major": 2,
              "version_minor": 0,
              "model_id": "a438b20b99f2421dabeb7fc665f15604"
            }
          },
          "metadata": {}
        },
        {
          "output_type": "stream",
          "name": "stderr",
          "text": [
            "INFO:stanza:Downloading default packages for language: en (English) ...\n"
          ]
        },
        {
          "output_type": "display_data",
          "data": {
            "text/plain": [
              "Downloading https://huggingface.co/stanfordnlp/stanza-en/resolve/v1.6.0/models/default.zip:   0%|          | 0…"
            ],
            "application/vnd.jupyter.widget-view+json": {
              "version_major": 2,
              "version_minor": 0,
              "model_id": "cc151727b2d446358de065920aee20d3"
            }
          },
          "metadata": {}
        },
        {
          "output_type": "stream",
          "name": "stderr",
          "text": [
            "INFO:stanza:Finished downloading models and saved to /root/stanza_resources.\n",
            "INFO:stanza:Checking for updates to resources.json in case models have been updated.  Note: this behavior can be turned off with download_method=None or download_method=DownloadMethod.REUSE_RESOURCES\n"
          ]
        },
        {
          "output_type": "display_data",
          "data": {
            "text/plain": [
              "Downloading https://raw.githubusercontent.com/stanfordnlp/stanza-resources/main/resources_1.6.0.json:   0%|   …"
            ],
            "application/vnd.jupyter.widget-view+json": {
              "version_major": 2,
              "version_minor": 0,
              "model_id": "4cb36ce2b9714e25b7c888d2e1b1b3e0"
            }
          },
          "metadata": {}
        },
        {
          "output_type": "stream",
          "name": "stderr",
          "text": [
            "INFO:stanza:Loading these models for language: en (English):\n",
            "=================================\n",
            "| Processor | Package           |\n",
            "---------------------------------\n",
            "| tokenize  | combined          |\n",
            "| pos       | combined_charlm   |\n",
            "| lemma     | combined_nocharlm |\n",
            "=================================\n",
            "\n",
            "INFO:stanza:Using device: cpu\n",
            "INFO:stanza:Loading: tokenize\n",
            "INFO:stanza:Loading: pos\n",
            "INFO:stanza:Loading: lemma\n",
            "INFO:stanza:Done loading processors!\n"
          ]
        }
      ]
    },
    {
      "cell_type": "code",
      "source": [
        "#process text\n",
        "\n",
        "text = text # I chose the one I have already defined\n",
        "doc = nlp(text) # apply nlp stanza to the text\n",
        "\n",
        "# create Counter to hold tokens\n",
        "word_freq = Counter()\n",
        "\n",
        "# set of English stopwords\n",
        "stopwords = set(['the', 'and', 'to', 'of', 'a', 'in', 'that', 'is', 'was', 'i', 'it', 'for' ])\n",
        "\n",
        "# count freq of each nonstop word in the text, only consider NOUN and PROPN\n",
        "\n",
        "for sentence in doc.sentences:\n",
        "  for token in sentence.tokens:\n",
        "    word = token.words[0]\n",
        "    if word.lemma.lower() not in stopwords and word.upos in [\"NOUN\", \"PROPN\"]:\n",
        "      word_freq[word.lemma.lower()] += 1 # counter +1\n",
        "\n",
        "\n",
        "# let's consider words with freq >1:\n",
        "contextual_wordlist = [word for word, freq in word_freq.items() if freq > 1]\n",
        "\n",
        "# number of relevant words I want to take\n",
        "num_important_words = len(contextual_wordlist)\n",
        "\n",
        "# save it\n",
        "try:\n",
        "    with open('/content/drive/My Drive/PERSO_PROJECTS/wordlist-stanza-basic.txt', 'w') as f:\n",
        "        for word in contextual_wordlist:\n",
        "            f.write(f\"{word}\\n\")\n",
        "except Exception as e:\n",
        "    print(f\"An error occurred: {str(e)}\")\n",
        "\n",
        "print(f\"Number of 'important' words: {num_important_words}\")\n"
      ],
      "metadata": {
        "colab": {
          "base_uri": "https://localhost:8080/"
        },
        "id": "pTD3GJZuv803",
        "outputId": "f2a88474-642a-4b24-f9ac-362f447b2f1d"
      },
      "execution_count": null,
      "outputs": [
        {
          "output_type": "stream",
          "name": "stdout",
          "text": [
            "Number of 'important' words: 60\n"
          ]
        }
      ]
    },
    {
      "cell_type": "markdown",
      "source": [
        "# Comparing Stanza vs. Spacy"
      ],
      "metadata": {
        "id": "rJjeoPMXyPUp"
      }
    },
    {
      "cell_type": "code",
      "source": [
        "pip install matplotlib\n"
      ],
      "metadata": {
        "colab": {
          "base_uri": "https://localhost:8080/"
        },
        "id": "14DSDhY30nBB",
        "outputId": "276357cb-8317-4ad7-9103-37ce6eea1949"
      },
      "execution_count": null,
      "outputs": [
        {
          "output_type": "stream",
          "name": "stdout",
          "text": [
            "Requirement already satisfied: matplotlib in /usr/local/lib/python3.10/dist-packages (3.7.1)\n",
            "Requirement already satisfied: contourpy>=1.0.1 in /usr/local/lib/python3.10/dist-packages (from matplotlib) (1.1.1)\n",
            "Requirement already satisfied: cycler>=0.10 in /usr/local/lib/python3.10/dist-packages (from matplotlib) (0.12.0)\n",
            "Requirement already satisfied: fonttools>=4.22.0 in /usr/local/lib/python3.10/dist-packages (from matplotlib) (4.43.0)\n",
            "Requirement already satisfied: kiwisolver>=1.0.1 in /usr/local/lib/python3.10/dist-packages (from matplotlib) (1.4.5)\n",
            "Requirement already satisfied: numpy>=1.20 in /usr/local/lib/python3.10/dist-packages (from matplotlib) (1.23.5)\n",
            "Requirement already satisfied: packaging>=20.0 in /usr/local/lib/python3.10/dist-packages (from matplotlib) (23.2)\n",
            "Requirement already satisfied: pillow>=6.2.0 in /usr/local/lib/python3.10/dist-packages (from matplotlib) (9.4.0)\n",
            "Requirement already satisfied: pyparsing>=2.3.1 in /usr/local/lib/python3.10/dist-packages (from matplotlib) (3.1.1)\n",
            "Requirement already satisfied: python-dateutil>=2.7 in /usr/local/lib/python3.10/dist-packages (from matplotlib) (2.8.2)\n",
            "Requirement already satisfied: six>=1.5 in /usr/local/lib/python3.10/dist-packages (from python-dateutil>=2.7->matplotlib) (1.16.0)\n"
          ]
        }
      ]
    },
    {
      "cell_type": "code",
      "source": [
        "from collections import Counter\n",
        "import matplotlib.pyplot as plt\n",
        "\n",
        "# Load text files\n",
        "def load_text_file(file_path):\n",
        "    with open(file_path, 'r') as f:\n",
        "        return f.read().split()\n",
        "\n",
        "# paths\n",
        "stanza_file = '/content/drive/My Drive/PERSO_PROJECTS/wordlist-stanza-basic.txt'\n",
        "spacy_file = '/content/drive/My Drive/PERSO_PROJECTS/wordlist-spacy-basic.txt'\n",
        "\n",
        "stanza_tokens = load_text_file(stanza_file)\n",
        "spacy_tokens = load_text_file(spacy_file)\n",
        "\n",
        "# Count frequencies\n",
        "stanza_counter = Counter(stanza_tokens)\n",
        "spacy_counter = Counter(spacy_tokens)\n",
        "\n",
        "# Find differences and similarities\n",
        "unique_to_stanza = set(stanza_tokens) - set(spacy_tokens)\n",
        "unique_to_spacy = set(spacy_tokens) - set(stanza_tokens)\n",
        "common_to_both = set(stanza_tokens).intersection(set(spacy_tokens))\n",
        "\n",
        "# Print statistics\n",
        "print(f\"Tokens unique to Stanza: {len(unique_to_stanza)}\")\n",
        "print(f\"Tokens unique to spaCy: {len(unique_to_spacy)}\")\n",
        "print(f\"Tokens common to both: {len(common_to_both)}\")\n",
        "\n"
      ],
      "metadata": {
        "colab": {
          "base_uri": "https://localhost:8080/"
        },
        "id": "BhyrfhcG0srJ",
        "outputId": "088841ad-79be-402f-a11b-c7634905ffbb"
      },
      "execution_count": null,
      "outputs": [
        {
          "output_type": "stream",
          "name": "stdout",
          "text": [
            "Tokens unique to Stanza: 7\n",
            "Tokens unique to spaCy: 1\n",
            "Tokens common to both: 53\n"
          ]
        }
      ]
    },
    {
      "cell_type": "code",
      "source": [
        "\n",
        "# Visualize with a Venn diagram\n",
        "plt.figure(figsize=(10, 7))\n",
        "venn = plt.subplot(1, 1, 1)\n",
        "\n",
        "from matplotlib_venn import venn2\n",
        "venn2([set(stanza_tokens), set(spacy_tokens)], set_labels=('Stanza', 'spaCy'))\n",
        "plt.title(\"Venn Diagram between Stanza and spaCy tokens\")\n",
        "\n",
        "plt.show()\n"
      ],
      "metadata": {
        "colab": {
          "base_uri": "https://localhost:8080/",
          "height": 598
        },
        "id": "VomQXr6C02FK",
        "outputId": "383e5d32-b880-4ffa-9ebd-895561e53dff"
      },
      "execution_count": null,
      "outputs": [
        {
          "output_type": "display_data",
          "data": {
            "text/plain": [
              "<Figure size 1000x700 with 1 Axes>"
            ],
            "image/png": "[encoded data removed]"
          },
          "metadata": {}
        }
      ]
    },
    {
      "cell_type": "code",
      "source": [
        "\n",
        "# Bar chart for frequency distribution of common tokens\n",
        "common_tokens_freq = {token: (stanza_counter[token], spacy_counter[token]) for token in common_to_both}\n",
        "\n",
        "# Take top 10 common tokens for demonstration\n",
        "common_tokens_freq = dict(sorted(common_tokens_freq.items(), key=lambda x: x[1][0], reverse=True)[:10])\n",
        "\n",
        "labels = list(common_tokens_freq.keys())\n",
        "stanza_freq = [val[0] for val in common_tokens_freq.values()]\n",
        "spacy_freq = [val[1] for val in common_tokens_freq.values()]\n",
        "\n",
        "x = range(len(labels))\n",
        "\n",
        "plt.bar(x, stanza_freq, width=0.4, label='Stanza', color='b', align='center')\n",
        "plt.bar(x, spacy_freq, width=0.4, label='spaCy', color='r', align='edge')\n",
        "\n",
        "plt.xlabel('Tokens')\n",
        "plt.ylabel('Frequency')\n",
        "plt.title('Top 10 Common Tokens Frequency Distribution')\n",
        "plt.xticks(x, labels, rotation='vertical')\n",
        "plt.legend()\n",
        "plt.show()"
      ],
      "metadata": {
        "colab": {
          "base_uri": "https://localhost:8080/",
          "height": 533
        },
        "id": "zyC_lzKb03bq",
        "outputId": "98649585-a7ef-448c-d6d0-562cc418cb4b"
      },
      "execution_count": null,
      "outputs": [
        {
          "output_type": "display_data",
          "data": {
            "text/plain": [
              "<Figure size 640x480 with 1 Axes>"
            ],
            "image/png": "[encoded data removed]"
          },
          "metadata": {}
        }
      ]
    },
    {
      "cell_type": "code",
      "source": [],
      "metadata": {
        "id": "VIRebL1a1RNW"
      },
      "execution_count": null,
      "outputs": []
    },
    {
      "cell_type": "code",
      "source": [
        "from collections import Counter\n",
        "import matplotlib.pyplot as plt\n",
        "import seaborn as sns\n",
        "from wordcloud import WordCloud\n",
        "\n",
        "import pandas as pd\n",
        "\n",
        "# Heatmap for frequency distribution of common tokens\n",
        "common_tokens_freq = {token: (stanza_counter[token], spacy_counter[token]) for token in common_to_both}\n",
        "common_tokens_freq = dict(sorted(common_tokens_freq.items(), key=lambda x: x[1][0], reverse=True)[:20])\n",
        "\n",
        "labels = list(common_tokens_freq.keys())\n",
        "stanza_freq = [val[0] for val in common_tokens_freq.values()]\n",
        "spacy_freq = [val[1] for val in common_tokens_freq.values()]\n",
        "\n",
        "\n",
        "\n",
        "\n",
        "df = pd.DataFrame({'Tokens': labels, 'Stanza': stanza_freq, 'spaCy': spacy_freq})\n",
        "df = df.melt(id_vars=\"Tokens\", var_name=\"Library\", value_name=\"Frequency\")\n",
        "\n",
        "plt.figure(figsize=(14, 8))\n",
        "sns.heatmap(df.pivot(\"Tokens\", \"Library\", \"Frequency\"), annot=True, fmt=\".0f\", cmap=\"YlGnBu\")\n",
        "plt.title('Heatmap for Top 20 Common Tokens Frequency Distribution')\n",
        "plt.show()\n"
      ],
      "metadata": {
        "colab": {
          "base_uri": "https://localhost:8080/",
          "height": 696
        },
        "id": "02fYvxai1Rcm",
        "outputId": "26b9ae13-2648-4bb4-cfd3-754cf07a6cde"
      },
      "execution_count": null,
      "outputs": [
        {
          "output_type": "stream",
          "name": "stderr",
          "text": [
            "<ipython-input-35-a4a26678cdee>:23: FutureWarning: In a future version of pandas all arguments of DataFrame.pivot will be keyword-only.\n",
            "  sns.heatmap(df.pivot(\"Tokens\", \"Library\", \"Frequency\"), annot=True, fmt=\".0f\", cmap=\"YlGnBu\")\n"
          ]
        },
        {
          "output_type": "display_data",
          "data": {
            "text/plain": [
              "<Figure size 1400x800 with 2 Axes>"
            ],
            "image/png": "[encoded data removed]"
          },
          "metadata": {}
        }
      ]
    },
    {
      "cell_type": "code",
      "source": [
        "\n",
        "# Word Clouds for unique tokens\n",
        "def generate_word_cloud(tokens, title):\n",
        "    wc = WordCloud(width=400, height=400, background_color='white').generate_from_frequencies(Counter(tokens))\n",
        "    plt.figure(figsize=(8, 8))\n",
        "    plt.imshow(wc)\n",
        "    plt.axis('off')\n",
        "    plt.title(title)\n",
        "    plt.show()\n",
        "\n",
        "generate_word_cloud(unique_to_stanza, 'Word Cloud for Stanza Unique Tokens')\n",
        "generate_word_cloud(unique_to_spacy, 'Word Cloud for spaCy Unique Tokens')\n"
      ],
      "metadata": {
        "colab": {
          "base_uri": "https://localhost:8080/",
          "height": 1000
        },
        "id": "rw-q6Uge1nHw",
        "outputId": "726a5201-3778-483a-e4c2-557799b9e774"
      },
      "execution_count": null,
      "outputs": [
        {
          "output_type": "display_data",
          "data": {
            "text/plain": [
              "<Figure size 800x800 with 1 Axes>"
            ],
            "image/png": "[encoded data removed]"
          },
          "metadata": {}
        },
        {
          "output_type": "display_data",
          "data": {
            "text/plain": [
              "<Figure size 800x800 with 1 Axes>"
            ],
            "image/png": "[encoded data removed]"
          },
          "metadata": {}
        }
      ]
    },
    {
      "cell_type": "code",
      "source": [
        "\n",
        "# Horizontal bar chart for top-n frequent words\n",
        "def plot_top_n_frequent_words(counter, n, title):\n",
        "    common_words = counter.most_common(n)\n",
        "    words = [word[0] for word in common_words]\n",
        "    counts = [word[1] for word in common_words]\n",
        "\n",
        "    plt.figure(figsize=(12, 8))\n",
        "    sns.barplot(x=counts, y=words, palette='viridis')\n",
        "    plt.title(title)\n",
        "    plt.show()\n",
        "\n",
        "plot_top_n_frequent_words(stanza_counter, 10, 'Top 10 Most Frequent Words in Stanza')\n",
        "plot_top_n_frequent_words(spacy_counter, 10, 'Top 10 Most Frequent Words in spaCy')\n"
      ],
      "metadata": {
        "colab": {
          "base_uri": "https://localhost:8080/",
          "height": 1000
        },
        "id": "nzVnqe_t1qLB",
        "outputId": "a24e07c7-e9e1-4437-e7d0-fd0be1eb9d12"
      },
      "execution_count": null,
      "outputs": [
        {
          "output_type": "display_data",
          "data": {
            "text/plain": [
              "<Figure size 1200x800 with 1 Axes>"
            ],
            "image/png": "[encoded data removed]"
          },
          "metadata": {}
        },
        {
          "output_type": "display_data",
          "data": {
            "text/plain": [
              "<Figure size 1200x800 with 1 Axes>"
            ],
            "image/png": "[encoded data removed]"
          },
          "metadata": {}
        }
      ]
    },
    {
      "cell_type": "markdown",
      "source": [
        "# Pretrained LLM - ChatGPT2"
      ],
      "metadata": {
        "id": "i-s-Q76j4dc1"
      }
    },
    {
      "cell_type": "code",
      "source": [
        "!pip install transformers"
      ],
      "metadata": {
        "colab": {
          "base_uri": "https://localhost:8080/"
        },
        "id": "-uLiB27j4lGW",
        "outputId": "88944a26-4649-477b-ff4d-ca52a67cce4b"
      },
      "execution_count": null,
      "outputs": [
        {
          "output_type": "stream",
          "name": "stdout",
          "text": [
            "Collecting transformers\n",
            "  Downloading transformers-4.34.0-py3-none-any.whl (7.7 MB)\n",
            "\u001b[2K     \u001b[90m━━━━━━━━━━━━━━━━━━━━━━━━━━━━━━━━━━━━━━━━\u001b[0m \u001b[32m7.7/7.7 MB\u001b[0m \u001b[31m23.3 MB/s\u001b[0m eta \u001b[36m0:00:00\u001b[0m\n",
            "\u001b[?25hRequirement already satisfied: filelock in /usr/local/lib/python3.10/dist-packages (from transformers) (3.12.4)\n",
            "Collecting huggingface-hub<1.0,>=0.16.4 (from transformers)\n",
            "  Downloading huggingface_hub-0.17.3-py3-none-any.whl (295 kB)\n",
            "\u001b[2K     \u001b[90m━━━━━━━━━━━━━━━━━━━━━━━━━━━━━━━━━━━━━━\u001b[0m \u001b[32m295.0/295.0 kB\u001b[0m \u001b[31m21.7 MB/s\u001b[0m eta \u001b[36m0:00:00\u001b[0m\n",
            "\u001b[?25hRequirement already satisfied: numpy>=1.17 in /usr/local/lib/python3.10/dist-packages (from transformers) (1.23.5)\n",
            "Requirement already satisfied: packaging>=20.0 in /usr/local/lib/python3.10/dist-packages (from transformers) (23.2)\n",
            "Requirement already satisfied: pyyaml>=5.1 in /usr/local/lib/python3.10/dist-packages (from transformers) (6.0.1)\n",
            "Requirement already satisfied: regex!=2019.12.17 in /usr/local/lib/python3.10/dist-packages (from transformers) (2023.6.3)\n",
            "Requirement already satisfied: requests in /usr/local/lib/python3.10/dist-packages (from transformers) (2.31.0)\n",
            "Collecting tokenizers<0.15,>=0.14 (from transformers)\n",
            "  Downloading tokenizers-0.14.1-cp310-cp310-manylinux_2_17_x86_64.manylinux2014_x86_64.whl (3.8 MB)\n",
            "\u001b[2K     \u001b[90m━━━━━━━━━━━━━━━━━━━━━━━━━━━━━━━━━━━━━━━━\u001b[0m \u001b[32m3.8/3.8 MB\u001b[0m \u001b[31m35.7 MB/s\u001b[0m eta \u001b[36m0:00:00\u001b[0m\n",
            "\u001b[?25hCollecting safetensors>=0.3.1 (from transformers)\n",
            "  Downloading safetensors-0.4.0-cp310-cp310-manylinux_2_17_x86_64.manylinux2014_x86_64.whl (1.3 MB)\n",
            "\u001b[2K     \u001b[90m━━━━━━━━━━━━━━━━━━━━━━━━━━━━━━━━━━━━━━━━\u001b[0m \u001b[32m1.3/1.3 MB\u001b[0m \u001b[31m48.1 MB/s\u001b[0m eta \u001b[36m0:00:00\u001b[0m\n",
            "\u001b[?25hRequirement already satisfied: tqdm>=4.27 in /usr/local/lib/python3.10/dist-packages (from transformers) (4.66.1)\n",
            "Requirement already satisfied: fsspec in /usr/local/lib/python3.10/dist-packages (from huggingface-hub<1.0,>=0.16.4->transformers) (2023.6.0)\n",
            "Requirement already satisfied: typing-extensions>=3.7.4.3 in /usr/local/lib/python3.10/dist-packages (from huggingface-hub<1.0,>=0.16.4->transformers) (4.5.0)\n",
            "Requirement already satisfied: charset-normalizer<4,>=2 in /usr/local/lib/python3.10/dist-packages (from requests->transformers) (3.3.0)\n",
            "Requirement already satisfied: idna<4,>=2.5 in /usr/local/lib/python3.10/dist-packages (from requests->transformers) (3.4)\n",
            "Requirement already satisfied: urllib3<3,>=1.21.1 in /usr/local/lib/python3.10/dist-packages (from requests->transformers) (2.0.6)\n",
            "Requirement already satisfied: certifi>=2017.4.17 in /usr/local/lib/python3.10/dist-packages (from requests->transformers) (2023.7.22)\n",
            "Installing collected packages: safetensors, huggingface-hub, tokenizers, transformers\n",
            "Successfully installed huggingface-hub-0.17.3 safetensors-0.4.0 tokenizers-0.14.1 transformers-4.34.0\n"
          ]
        }
      ]
    },
    {
      "cell_type": "code",
      "source": [
        "import re\n",
        "import torch\n",
        "import string\n",
        "import numpy as np\n",
        "from sklearn.feature_extraction.text import TfidfVectorizer\n",
        "from transformers import GPT2Tokenizer, GPT2Model\n",
        "import nltk\n",
        "from nltk.corpus import stopwords\n",
        "from nltk import pos_tag, ne_chunk, word_tokenize\n",
        "nltk.download('averaged_perceptron_tagger')\n",
        "\n",
        "# Download NLTK resources\n",
        "try:\n",
        "    nltk.data.find('tokenizers/punkt')\n",
        "    nltk.data.find('corpora/stopwords')\n",
        "    nltk.data.find('chunkers/maxent_ne_chunker')\n",
        "    nltk.data.find('corpora/words')\n",
        "except LookupError:\n",
        "    nltk.download('punkt')\n",
        "    nltk.download('stopwords')\n",
        "    nltk.download('maxent_ne_chunker')\n",
        "    nltk.download('words')\n",
        "\n",
        "# Initialize TF-IDF Vectorizer\n",
        "vectorizer = TfidfVectorizer()\n",
        "\n",
        "# Load GPT-2 model and tokenizer\n",
        "tokenizer = GPT2Tokenizer.from_pretrained(\"gpt2\")\n",
        "model = GPT2Model.from_pretrained(\"gpt2\")\n",
        "\n",
        "def generate_wordlist_long(text):\n",
        "    max_segment_length = 1000\n",
        "    segments = [text[i:i+max_segment_length] for i in range(0, len(text), max_segment_length)]\n",
        "\n",
        "    corpus = []\n",
        "    wordlist = []\n",
        "    pos_tags = []\n",
        "    ner_tags = []\n",
        "\n",
        "    for segment in segments:\n",
        "        input_ids = tokenizer.encode(segment, return_tensors=\"pt\", add_special_tokens=True)\n",
        "\n",
        "        with torch.no_grad():\n",
        "            embeddings = model(input_ids)[0]\n",
        "\n",
        "        tokens = tokenizer.convert_ids_to_tokens(input_ids[0])\n",
        "\n",
        "        # Remove stopwords, special tokens, punctuation, and non-full words\n",
        "        stop_words = set(stopwords.words(\"english\"))\n",
        "        punct = set(string.punctuation)\n",
        "        tokens_filtered = [\n",
        "            token.replace(\"Ġ\", \"\") for token in tokens\n",
        "            if (re.fullmatch('[a-zA-Z]+', token))\n",
        "            and (token.lower() not in stop_words)\n",
        "            and (not any(char in punct for char in token))\n",
        "        ]\n",
        "\n",
        "        corpus.append(\" \".join(tokens_filtered))\n",
        "\n",
        "        pos_tags_segment = pos_tag(word_tokenize(segment))\n",
        "        ner_tags_segment = ne_chunk(pos_tags_segment)\n",
        "\n",
        "        wordlist.extend(tokens_filtered)\n",
        "        pos_tags.extend(pos_tags_segment)\n",
        "        ner_tags.extend(ner_tags_segment)\n",
        "\n",
        "    # Compute TF-IDF values\n",
        "    tfidf_matrix = vectorizer.fit_transform(corpus)\n",
        "    feature_names = np.array(vectorizer.get_feature_names_out())\n",
        "    tfidf_sorting = np.argsort(tfidf_matrix.toarray()).flatten()[::-1]\n",
        "    top_n = feature_names[tfidf_sorting][:10]  # Get top 10 words by TF-IDF score\n",
        "\n",
        "    return wordlist, pos_tags, ner_tags, top_n\n",
        "\n",
        "# Test the function\n",
        "input_text = text\n",
        "wordlist, pos_tags, ner_tags, top_n = generate_wordlist_long(input_text)\n",
        "\n",
        "# Save to a file\n",
        "save_path = '/content/drive/My Drive/PERSO_PROJECTS/wordlist-GPT2-basic.txt'\n",
        "try:\n",
        "    with open(save_path, 'w') as f:\n",
        "        for word in wordlist:\n",
        "            f.write(f\"{word}\\n\")\n",
        "except Exception as e:\n",
        "    print(f\"An error occurred: {str(e)}\")\n",
        "\n",
        "print(f\"Number of 'important' words: {len(wordlist)}\")\n",
        "print(f\"Top 10 important words according to TF-IDF: {top_n}\")\n"
      ],
      "metadata": {
        "colab": {
          "base_uri": "https://localhost:8080/"
        },
        "id": "snqSNUqw5_F4",
        "outputId": "2fb2d6b6-bea4-4f3a-9c84-4a8247cb11e7"
      },
      "execution_count": null,
      "outputs": [
        {
          "output_type": "stream",
          "name": "stderr",
          "text": [
            "[nltk_data] Downloading package averaged_perceptron_tagger to\n",
            "[nltk_data]     /root/nltk_data...\n",
            "[nltk_data]   Package averaged_perceptron_tagger is already up-to-\n",
            "[nltk_data]       date!\n"
          ]
        },
        {
          "output_type": "stream",
          "name": "stdout",
          "text": [
            "Number of 'important' words: 352\n",
            "Top 10 important words according to TF-IDF: ['iable' 'morrow' 'int' 'usion' 'wood' 'fl' 'express' 'far' 'fe' 'fire']\n"
          ]
        }
      ]
    },
    {
      "cell_type": "code",
      "source": [],
      "metadata": {
        "id": "BUsbKM_t6XOz"
      },
      "execution_count": null,
      "outputs": []
    },
    {
      "cell_type": "markdown",
      "source": [
        "# Pretrained LLM DistilBERT"
      ],
      "metadata": {
        "id": "Imy3uls96VPd"
      }
    },
    {
      "cell_type": "code",
      "source": [
        "import re\n",
        "import torch\n",
        "import numpy as np\n",
        "from sklearn.feature_extraction.text import TfidfVectorizer\n",
        "from transformers import DistilBertTokenizer, DistilBertModel\n",
        "import nltk\n",
        "from nltk.corpus import stopwords\n",
        "from nltk import pos_tag, ne_chunk, word_tokenize\n",
        "\n",
        "# Download NLTK resources\n",
        "try:\n",
        "    nltk.data.find('tokenizers/punkt')\n",
        "    nltk.data.find('corpora/stopwords')\n",
        "    nltk.data.find('chunkers/maxent_ne_chunker')\n",
        "    nltk.data.find('corpora/words')\n",
        "except LookupError:\n",
        "    nltk.download('punkt')\n",
        "    nltk.download('stopwords')\n",
        "    nltk.download('maxent_ne_chunker')\n",
        "    nltk.download('words')\n",
        "\n",
        "# Initialize TF-IDF Vectorizer\n",
        "vectorizer = TfidfVectorizer()\n",
        "\n",
        "# Load DistilBERT model and tokenizer\n",
        "tokenizer = DistilBertTokenizer.from_pretrained(\"distilbert-base-uncased\")\n",
        "model = DistilBertModel.from_pretrained(\"distilbert-base-uncased\")\n",
        "\n",
        "def generate_wordlist_long(text):\n",
        "    max_segment_length = 1000\n",
        "    segments = [text[i:i+max_segment_length] for i in range(0, len(text), max_segment_length)]\n",
        "\n",
        "    corpus = []\n",
        "    wordlist = []\n",
        "    pos_tags = []\n",
        "    ner_tags = []\n",
        "\n",
        "    for segment in segments:\n",
        "        input_ids = tokenizer.encode(segment, return_tensors=\"pt\", add_special_tokens=True)\n",
        "\n",
        "        with torch.no_grad():\n",
        "            embeddings = model(input_ids)[0]\n",
        "\n",
        "        tokens = tokenizer.convert_ids_to_tokens(input_ids[0])\n",
        "\n",
        "        # Remove stopwords, special tokens, and non-full words\n",
        "        stop_words = set(stopwords.words(\"english\"))\n",
        "        tokens_filtered = [\n",
        "            token for token in tokens\n",
        "            if (re.fullmatch('[a-zA-Z]+', token))\n",
        "            and (token.lower() not in stop_words)\n",
        "        ]\n",
        "\n",
        "        corpus.append(\" \".join(tokens_filtered))\n",
        "\n",
        "        pos_tags_segment = pos_tag(word_tokenize(segment))\n",
        "        ner_tags_segment = ne_chunk(pos_tags_segment)\n",
        "\n",
        "        wordlist.extend(tokens_filtered)\n",
        "        pos_tags.extend(pos_tags_segment)\n",
        "        ner_tags.extend(ner_tags_segment)\n",
        "\n",
        "    # Compute TF-IDF values for words\n",
        "    tfidf_matrix = vectorizer.fit_transform(corpus)\n",
        "    feature_names = np.array(vectorizer.get_feature_names_out())\n",
        "    tfidf_sorting = np.argsort(tfidf_matrix.toarray()).flatten()[::-1]\n",
        "    top_n = feature_names[tfidf_sorting][:10]  # Get top 10 words by TF-IDF score\n",
        "\n",
        "    return wordlist, pos_tags, ner_tags, top_n\n",
        "\n",
        "# Test the function\n",
        "input_text = text\n",
        "wordlist, pos_tags, ner_tags, top_n = generate_wordlist_long(input_text)\n",
        "\n",
        "# Save to a file\n",
        "save_path = '/content/drive/My Drive/PERSO_PROJECTS/wordlist-DistilBERT-basic.txt'\n",
        "try:\n",
        "    with open(save_path, 'w') as f:\n",
        "        for word in wordlist:\n",
        "            f.write(f\"{word}\\n\")\n",
        "except Exception as e:\n",
        "    print(f\"An error occurred: {str(e)}\")\n",
        "\n",
        "print(f\"Number of 'important' words: {len(wordlist)}\")\n",
        "print(f\"Top 10 important words according to TF-IDF: {top_n}\")\n"
      ],
      "metadata": {
        "colab": {
          "base_uri": "https://localhost:8080/"
        },
        "id": "rpRs1c5b-G3e",
        "outputId": "11185a16-7c96-4ebf-bbfd-ab525adc0656"
      },
      "execution_count": null,
      "outputs": [
        {
          "output_type": "stream",
          "name": "stdout",
          "text": [
            "Number of 'important' words: 995\n",
            "Top 10 important words according to TF-IDF: ['astonishing' 'touched' 'evidently' 'morrow' 'intelligent' 'wished' 'far'\n",
            " 'compared' 'topics' 'soc']\n"
          ]
        }
      ]
    },
    {
      "cell_type": "markdown",
      "source": [
        "# LSTM"
      ],
      "metadata": {
        "id": "oDbdpt07-XNo"
      }
    },
    {
      "cell_type": "code",
      "source": [
        "text = \"\"\"\n",
        "1801. - I have just returned from a visit to my landlord - the solitary neighbour that I shall be troubled with.\n",
        "This is certainly a beautiful country! In all England, I do not believe that I could have fixed on a situation so\n",
        "completely removed from the stir of society. A perfect misanthropist's heaven: and Mr. Heathcliff and I are\n",
        "such a suitable pair to divide the desolation between us. A capital fellow! He little imagined how my heart\n",
        "warmed towards him when I beheld his black eyes withdraw so suspiciously under their brows, as I rode up,\n",
        "and when his fingers sheltered themselves, with a jealous resolution, still further in his waistcoat, as I\n",
        "announced my name.\n",
        "'Mr. Heathcliff?' I said.\n",
        "A nod was the answer.\n",
        "'Mr. Lockwood, your new tenant, sir. I do myself the honour of calling as soon as possible after my arrival, to\n",
        "express the hope that I have not inconvenienced you by my perseverance in soliciting the occupation of\n",
        "Thrushcross Grange: I heard yesterday you had had some thoughts - '\n",
        "'Thrushcross Grange is my own, sir,' he interrupted, wincing. 'I should not allow any one to inconvenience me,\n",
        "if I could hinder it - walk in!'\n",
        "The 'walk in' was uttered with closed teeth, and expressed the sentiment, 'Go to the Deuce:' even the gate over\n",
        "which he leant manifested no sympathising movement to the words; and I think that circumstance determined\n",
        "me to accept the invitation: I felt interested in a man who seemed more exaggeratedly reserved than myself.\n",
        "When he saw my horse's breast fairly pushing the barrier, he did put out his hand to unchain it, and then\n",
        "sullenly preceded me up the causeway, calling, as we entered the court, - 'Joseph, take Mr. Lockwood's horse;\n",
        "and bring up some wine.'\n",
        "'Here we have the whole establishment of domestics, I suppose,' was the reflection suggested by this\n",
        "compound order. 'No wonder the grass grows up between the flags, and cattle are the only hedge- cutters.'\n",
        "Joseph was an elderly, nay, an old man: very old, perhaps, though hale and sinewy. 'The Lord help us!' he\n",
        "soliloquised in an undertone of peevish displeasure, while relieving me of my horse: looking, meantime, in\n",
        "my face so sourly that I charitably conjectured he must have need of divine aid to digest his dinner, and his\n",
        "pious ejaculation had no reference to my unexpected advent.\n",
        "Wuthering Heights is the name of Mr. Heathcliff's dwelling. 'Wuthering' being a significant provincial\n",
        "adjective, descriptive of the atmospheric tumult to which its station is exposed in stormy weather. Pure,\n",
        "bracing ventilation they must have up there at all times, indeed: one may guess the power of the north wind\n",
        "blowing over the edge, by the excessive slant of a few stunted firs at the end of the house; and by a range of\n",
        "gaunt thorns all stretching their limbs one way, as if craving alms of the sun. Happily, the architect had\n",
        "foresight to build it strong: the narrow windows are deeply set in the wall, and the corners defended with large\n",
        "jutting stones.\n",
        "Before passing the threshold, I paused to admire a quantity of grotesque carving lavished over the front, and\n",
        "especially about the principal door; above which, among a wilderness of crumbling griffins and shameless\n",
        "little boys, I detected the date '1500,' and the name 'Hareton Earnshaw.' I would have made a few comments,\n",
        "and requested a short history of the place from the surly owner; but his attitude at the door appeared to\n",
        "demand my speedy entrance, or complete departure, and I had no desire to aggravate his impatience previous\n",
        "to inspecting the penetralium.\n",
        "CHAPTER I 6\n",
        "One stop brought us into the family sitting-room, without any introductory lobby or passage: they call it here\n",
        "'the house' pre- eminently. It includes kitchen and parlour, generally; but I believe at Wuthering Heights the\n",
        "kitchen is forced to retreat altogether into another quarter: at least I distinguished a chatter of tongues, and a\n",
        "clatter of culinary utensils, deep within; and I observed no signs of roasting, boiling, or baking, about the huge\n",
        "fireplace; nor any glitter of copper saucepans and tin cullenders on the walls. One end, indeed, reflected\n",
        "splendidly both light and heat from ranks of immense pewter dishes, interspersed with silver jugs and\n",
        "tankards, towering row after row, on a vast oak dresser, to the very roof. The latter had never been\n",
        "under-drawn: its entire anatomy lay bare to an inquiring eye, except where a frame of wood laden with\n",
        "oatcakes and clusters of legs of beef, mutton, and ham, concealed it. Above the chimney were sundry\n",
        "villainous old guns, and a couple of horse-pistols: and, by way of ornament, three gaudily-painted canisters\n",
        "disposed along its ledge. The floor was of smooth, white stone; the chairs, high-backed, primitive structures,\n",
        "painted green: one or two heavy black ones lurking in the shade. In an arch under the dresser reposed a huge,\n",
        "liver-coloured bitch pointer, surrounded by a swarm of squealing puppies; and other dogs haunted other\n",
        "recesses.\n",
        "The apartment and furniture would have been nothing extraordinary as belonging to a homely, northern\n",
        "farmer, with a stubborn countenance, and stalwart limbs set out to advantage in knee- breeches and gaiters.\n",
        "Such an individual seated in his arm-chair, his mug of ale frothing on the round table before him, is to be seen\n",
        "in any circuit of five or six miles among these hills, if you go at the right time after dinner. But Mr. Heathcliff\n",
        "forms a singular contrast to his abode and style of living. He is a dark- skinned gipsy in aspect, in dress and\n",
        "manners a gentleman: that is, as much a gentleman as many a country squire: rather slovenly, perhaps, yet not\n",
        "looking amiss with his negligence, because he has an erect and handsome figure; and rather morose. Possibly,\n",
        "some people might suspect him of a degree of under-bred pride; I have a sympathetic chord within that tells\n",
        "me it is nothing of the sort: I know, by instinct, his reserve springs from an aversion to showy displays of\n",
        "feeling - to manifestations of mutual kindliness. He'll love and hate equally under cover, and esteem it a\n",
        "species of impertinence to be loved or hated again. No, I'm running on too fast: I bestow my own attributes\n",
        "over-liberally on him. Mr. Heathcliff may have entirely dissimilar reasons for keeping his hand out of the way\n",
        "when he meets a would-be acquaintance, to those which actuate me. Let me hope my constitution is almost\n",
        "peculiar: my dear mother used to say I should never have a comfortable home; and only last summer I proved\n",
        "myself perfectly unworthy of one.\n",
        "While enjoying a month of fine weather at the sea-coast, I was thrown into the company of a most fascinating\n",
        "creature: a real goddess in my eyes, as long as she took no notice of me. I 'never told my love' vocally; still, if\n",
        "looks have language, the merest idiot might have guessed I was over head and ears: she understood me at last,\n",
        "and looked a return - the sweetest of all imaginable looks. And what did I do? I confess it with shame - shrunk\n",
        "icily into myself, like a snail; at every glance retired colder and farther; till finally the poor innocent was led to\n",
        "doubt her own senses, and, overwhelmed with confusion at her supposed mistake, persuaded her mamma to\n",
        "decamp. By this curious turn of disposition I have gained the reputation of deliberate heartlessness; how\n",
        "undeserved, I alone can appreciate.\n",
        "I took a seat at the end of the hearthstone opposite that towards which my landlord advanced, and filled up an\n",
        "interval of silence by attempting to caress the canine mother, who had left her nursery, and was sneaking\n",
        "wolfishly to the back of my legs, her lip curled up, and her white teeth watering for a snatch. My caress\n",
        "provoked a long, guttural gnarl.\n",
        "'You'd better let the dog alone,' growled Mr. Heathcliff in unison, checking fiercer demonstrations with a\n",
        "punch of his foot. 'She's not accustomed to be spoiled - not kept for a pet.' Then, striding to a side door, he\n",
        "shouted again, 'Joseph!'\n",
        "Joseph mumbled indistinctly in the depths of the cellar, but gave no intimation of ascending; so his master\n",
        "dived down to him, leaving me VIS-A-VIS the ruffianly bitch and a pair of grim shaggy sheep-dogs, who\n",
        "shared with her a jealous guardianship over all my movements. Not anxious to come in contact with their\n",
        "CHAPTER I 7\n",
        "fangs, I sat still; but, imagining they would scarcely understand tacit insults, I unfortunately indulged in\n",
        "winking and making faces at the trio, and some turn of my physiognomy so irritated madam, that she\n",
        "suddenly broke into a fury and leapt on my knees. I flung her back, and hastened to interpose the table\n",
        "between us. This proceeding aroused the whole hive: half-a-dozen four-footed fiends, of various sizes and\n",
        "ages, issued from hidden dens to the common centre. I felt my heels and coat-laps peculiar subjects of assault;\n",
        "and parrying off the larger combatants as effectually as I could with the poker, I was constrained to demand,\n",
        "aloud, assistance from some of the household in re-establishing peace.\n",
        "Mr. Heathcliff and his man climbed the cellar steps with vexatious phlegm: I don't think they moved one\n",
        "second faster than usual, though the hearth was an absolute tempest of worrying and yelping. Happily, an\n",
        "inhabitant of the kitchen made more despatch: a lusty dame, with tucked-up gown, bare arms, and fire-flushed\n",
        "cheeks, rushed into the midst of us flourishing a frying-pan: and used that weapon, and her tongue, to such\n",
        "purpose, that the storm subsided magically, and she only remained, heaving like a sea after a high wind, when\n",
        "her master entered on the scene.\n",
        "'What the devil is the matter?' he asked, eyeing me in a manner that I could ill endure, after this inhospitable\n",
        "treatment.\n",
        "'What the devil, indeed!' I muttered. 'The herd of possessed swine could have had no worse spirits in them\n",
        "than those animals of yours, sir. You might as well leave a stranger with a brood of tigers!'\n",
        "'They won't meddle with persons who touch nothing,' he remarked, putting the bottle before me, and restoring\n",
        "the displaced table. 'The dogs do right to be vigilant. Take a glass of wine?'\n",
        "'No, thank you.'\n",
        "'Not bitten, are you?'\n",
        "'If I had been, I would have set my signet on the biter.' Heathcliff's countenance relaxed into a grin.\n",
        "'Come, come,' he said, 'you are flurried, Mr. Lockwood. Here, take a little wine. Guests are so exceedingly\n",
        "rare in this house that I and my dogs, I am willing to own, hardly know how to receive them. Your health, sir?'\n",
        "I bowed and returned the pledge; beginning to perceive that it would be foolish to sit sulking for the\n",
        "misbehaviour of a pack of curs; besides, I felt loth to yield the fellow further amusement at my expense; since\n",
        "his humour took that turn. He - probably swayed by prudential consideration of the folly of offending a good\n",
        "tenant - relaxed a little in the laconic style of chipping off his pronouns and auxiliary verbs, and introduced\n",
        "what he supposed would be a subject of interest to me, - a discourse on the advantages and disadvantages of\n",
        "my present place of retirement. I found him very intelligent on the topics we touched; and before I went home,\n",
        "I was encouraged so far as to volunteer another visit to-morrow. He evidently wished no repetition of my\n",
        "intrusion. I shall go, notwithstanding. It is astonishing how sociable I feel myself compared with him.\n",
        "\n",
        "\"\"\""
      ],
      "metadata": {
        "id": "PWBvEwthA60S"
      },
      "execution_count": null,
      "outputs": []
    },
    {
      "cell_type": "code",
      "source": [
        "import numpy as np\n",
        "import tensorflow as tf\n",
        "from sklearn.feature_extraction.text import TfidfVectorizer\n",
        "from sklearn.model_selection import train_test_split\n",
        "from transformers import DistilBertTokenizer, DistilBertModel\n",
        "import torch\n",
        "\n",
        "import numpy as np\n",
        "import tensorflow as tf\n",
        "from sklearn.feature_extraction.text import TfidfVectorizer\n",
        "from sklearn.model_selection import train_test_split\n",
        "from transformers import DistilBertTokenizer, DistilBertModel\n",
        "from nltk.corpus import stopwords\n",
        "from nltk.tokenize import word_tokenize\n",
        "import torch\n",
        "\n",
        "# Sample text\n",
        "text = text\n",
        "\n",
        "# Step 1: Tokenization\n",
        "words = word_tokenize(text)\n",
        "\n",
        "# Step 2: TF-IDF Calculation\n",
        "vectorizer = TfidfVectorizer()\n",
        "tfidf_matrix = vectorizer.fit_transform(words)\n",
        "tfidf_scores = np.array(tfidf_matrix.mean(axis=0)).ravel()\n",
        "threshold = np.median(tfidf_scores)\n",
        "labels = (tfidf_scores > threshold).astype(int)\n",
        "\n",
        "# Step 3: Feature Extraction using DistilBERT\n",
        "tokenizer = DistilBertTokenizer.from_pretrained(\"distilbert-base-uncased\")\n",
        "model = DistilBertModel.from_pretrained(\"distilbert-base-uncased\")\n",
        "embeddings = []\n",
        "\n",
        "for word in words:\n",
        "    inputs = tokenizer(word, return_tensors=\"pt\", padding=True, truncation=True)\n",
        "    input_ids = inputs['input_ids']\n",
        "    attention_mask = inputs['attention_mask']\n",
        "    with torch.no_grad():\n",
        "        emb = model(input_ids, attention_mask=attention_mask)[0][:,0,:].numpy()\n",
        "        embeddings.append(emb)\n",
        "\n",
        "\n",
        "embeddings = np.vstack(embeddings)\n",
        "\n",
        "\n",
        "## borrar hasta aquí\n",
        "\n",
        "\n",
        "# Ensure that embeddings and labels have the same length\n",
        "if len(embeddings) != len(labels):\n",
        "    min_len = min(len(embeddings), len(labels))\n",
        "    embeddings = embeddings[:min_len]\n",
        "    labels = labels[:min_len]\n",
        "\n",
        "\n",
        "\n",
        "# Check shapes of the data\n",
        "print(f\"Shape of embeddings: {embeddings.shape}\")\n",
        "print(f\"Shape of labels: {labels.shape}\")\n",
        "\n",
        "# Train-test split\n",
        "X_train, X_test, y_train, y_test = train_test_split(embeddings, labels, test_size=0.2, random_state=42)\n",
        "\n",
        "# LSTM Model Definition and Training\n",
        "lstm_model = tf.keras.Sequential([\n",
        "    tf.keras.layers.Input(shape=(768,)),  # Ensure the input shape matches the shape of the embeddings\n",
        "    tf.keras.layers.Reshape((1, 768)),  # LSTM expects 3D input, so reshape\n",
        "    tf.keras.layers.LSTM(64),\n",
        "    tf.keras.layers.Dense(1, activation='sigmoid')\n",
        "])\n",
        "\n",
        "lstm_model.compile(optimizer='adam',\n",
        "                   loss='binary_crossentropy',\n",
        "                   metrics=['accuracy'])\n",
        "\n",
        "lstm_model.fit(X_train, y_train, epochs=10)\n",
        "\n",
        "# Prediction and Identification of Important Words\n",
        "predictions = lstm_model.predict(embeddings).ravel()\n",
        "important_indices = np.where(predictions > 0.5)[0]\n",
        "important_words = np.array(words)[important_indices]\n",
        "\n",
        "# Save the important words to a .txt file\n",
        "with open('/content/drive/My Drive/PERSO_PROJECTS/wordlist-LSTM.txt', 'w') as f:\n",
        "    for word in important_words:\n",
        "        f.write(f\"{word}\\n\")"
      ],
      "metadata": {
        "colab": {
          "base_uri": "https://localhost:8080/"
        },
        "id": "7az-hYsE-YiI",
        "outputId": "d84715dc-8bc9-443e-9f11-9e607cd64f95"
      },
      "execution_count": null,
      "outputs": [
        {
          "output_type": "stream",
          "name": "stdout",
          "text": [
            "Shape of embeddings: (925, 768)\n",
            "Shape of labels: (925,)\n",
            "Epoch 1/10\n",
            "24/24 [==============================] - 2s 7ms/step - loss: 0.5342 - accuracy: 0.7703\n",
            "Epoch 2/10\n",
            "24/24 [==============================] - 0s 6ms/step - loss: 0.4927 - accuracy: 0.8068\n",
            "Epoch 3/10\n",
            "24/24 [==============================] - 0s 7ms/step - loss: 0.4854 - accuracy: 0.8068\n",
            "Epoch 4/10\n",
            "24/24 [==============================] - 0s 10ms/step - loss: 0.4830 - accuracy: 0.8068\n",
            "Epoch 5/10\n",
            "24/24 [==============================] - 0s 11ms/step - loss: 0.4813 - accuracy: 0.8068\n",
            "Epoch 6/10\n",
            "24/24 [==============================] - 0s 11ms/step - loss: 0.4760 - accuracy: 0.8068\n",
            "Epoch 7/10\n",
            "24/24 [==============================] - 0s 11ms/step - loss: 0.4731 - accuracy: 0.8068\n",
            "Epoch 8/10\n",
            "24/24 [==============================] - 0s 11ms/step - loss: 0.4690 - accuracy: 0.8068\n",
            "Epoch 9/10\n",
            "24/24 [==============================] - 0s 12ms/step - loss: 0.4668 - accuracy: 0.8068\n",
            "Epoch 10/10\n",
            "24/24 [==============================] - 0s 11ms/step - loss: 0.4655 - accuracy: 0.8068\n",
            "29/29 [==============================] - 1s 4ms/step\n"
          ]
        }
      ]
    }
  ]
}
